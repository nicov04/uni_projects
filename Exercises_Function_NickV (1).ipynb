{
  "cells": [
    {
      "cell_type": "markdown",
      "id": "4cfec5da",
      "metadata": {
        "id": "4cfec5da"
      },
      "source": [
        "# Exercises: Functions - Solution"
      ]
    },
    {
      "cell_type": "markdown",
      "id": "230f91cb",
      "metadata": {
        "id": "230f91cb"
      },
      "source": [
        "## 0 - Longer String\n",
        "\n",
        "Write a function that takes two strings (and only strings!) and returns the longer of the two. If both are the same length, return the first one."
      ]
    },
    {
      "cell_type": "code",
      "execution_count": null,
      "id": "fc8be428",
      "metadata": {
        "id": "fc8be428"
      },
      "outputs": [],
      "source": [
        "def longer_of_two_strings(string_1, string_2):\n",
        "    \"\"\"\n",
        "    Returns the longer of the two strings.\n",
        "    If both are the same length, the first one is returned.\n",
        "\n",
        "    # string1\n",
        "    # string2\n",
        "    # if characters in string 1 > string 2 and string 1 = string 2\n",
        "        return string 1\n",
        "     else\n",
        "        return string 2\n",
        "    \"\"\"\n",
        "\n",
        "    if len(string_1) >= len(string_2):\n",
        "      return string_1\n",
        "    else:\n",
        "      return string_2"
      ]
    },
    {
      "cell_type": "code",
      "execution_count": null,
      "id": "7aebbc5b",
      "metadata": {
        "scrolled": true,
        "colab": {
          "base_uri": "https://localhost:8080/",
          "height": 35
        },
        "id": "7aebbc5b",
        "outputId": "8163bdd8-65df-47c1-c94d-9705828657b6"
      },
      "outputs": [
        {
          "output_type": "execute_result",
          "data": {
            "text/plain": [
              "'kerfuffle'"
            ],
            "application/vnd.google.colaboratory.intrinsic+json": {
              "type": "string"
            }
          },
          "metadata": {},
          "execution_count": 107
        }
      ],
      "source": [
        "longer_of_two_strings(\"kerfuffle\", \"cacophony\")"
      ]
    },
    {
      "cell_type": "markdown",
      "id": "828d04bd",
      "metadata": {
        "id": "828d04bd"
      },
      "source": [
        "## 1 - Longest string\n",
        "\n",
        "Write a function that takes any number of strings and returns the longest one. If two or more are the same length, return the first one. Make direct use of `longest_strings` from 0."
      ]
    },
    {
      "cell_type": "code",
      "execution_count": null,
      "id": "0c5227b4",
      "metadata": {
        "id": "0c5227b4"
      },
      "outputs": [],
      "source": [
        "def longest_strings(string_1, *args): # *args is a cool way to do a loop, stands for 'argument'\n",
        "    \"\"\"\n",
        "    Returns the longest of the two or more strings.\n",
        "    If two or more have the same maximum length, the first one is returned.\n",
        "    \"\"\"\n",
        "\n",
        "    \"\"\"\n",
        "    the measure is lenght\n",
        "    need to do a for loop\n",
        "    if len(string_1) >= explored string i in our list\n",
        "      return string_1\n",
        "    \"\"\"\n",
        "    # we created a variable that stores the 'longest string'\n",
        "    # we set our first word that we use for comparison as the 'longest string'\n",
        "    long_string = string_1\n",
        "    for arg in args: # 'for every argument in the list of arguments'\n",
        "      if len(arg) > len(long_string): # ' check if current argument is greater than the current longest string\n",
        "        long_string = arg #if true, we set that entity as our new longest string and then return it\n",
        "    return long_string"
      ]
    },
    {
      "cell_type": "code",
      "execution_count": null,
      "id": "b4e38e3e",
      "metadata": {
        "colab": {
          "base_uri": "https://localhost:8080/",
          "height": 35
        },
        "id": "b4e38e3e",
        "outputId": "0aec12c1-736e-4560-ccfe-51ca53894f7e"
      },
      "outputs": [
        {
          "output_type": "execute_result",
          "data": {
            "text/plain": [
              "'armageddon'"
            ],
            "application/vnd.google.colaboratory.intrinsic+json": {
              "type": "string"
            }
          },
          "metadata": {},
          "execution_count": 111
        }
      ],
      "source": [
        "longest_strings(\"bumfuzzle\", \"guy\", \"rffin\", \"armageddon\")"
      ]
    },
    {
      "cell_type": "markdown",
      "id": "c6c2fce9",
      "metadata": {
        "id": "c6c2fce9"
      },
      "source": [
        "## 2 - List math\n",
        "\n",
        "Write a function that takes a list of numbers and a string which contains a mathematical operator (\"+\", \"-\", \"/\", \"\\*\", \"\\**\", \"%\", \"//\"). The function should return the result of the mathematical operation performed sequentially over the elements of the list. For example, `list_math([1,2,3], \"*\")` should calculate `1*2*3` and hence return `6`."
      ]
    },
    {
      "cell_type": "code",
      "execution_count": null,
      "id": "e11f8f85",
      "metadata": {
        "id": "e11f8f85"
      },
      "outputs": [],
      "source": [
        "def list_math(numbers, operator):\n",
        "    \"\"\"\n",
        "    Returns the result of the mathematical operation performed sequentially over the numbers.\n",
        "    \"\"\"\n",
        "\n",
        "    \"\"\"\n",
        "  the function will contain:\n",
        "          mathematical operators = (\"+\", \"-\", \"/\", \"*\", \"**\", \"%\", \"//\")\n",
        "          numbers = []\n",
        "          result will be the end product\n",
        "  will need to loop for every individual entity in the list and perform the math with the next\n",
        "  when 2 entities were 'mathed' we can add it to a result list and then take that number and keep mathing it?\n",
        "    \"\"\"\n",
        "\n",
        "    # here we made our 'result' variable be equal the first entity in the number list\n",
        "    result = numbers[0]\n",
        "\n",
        "    # for every number after the 'first' value we execute the operation\n",
        "    for num in numbers[1:]:\n",
        "      if operator == \"+\":\n",
        "        result = result + num\n",
        "      elif operator == \"-\":\n",
        "        result = result - num\n",
        "      elif operator == \"/\":\n",
        "        result = result / num\n",
        "      elif operator == \"*\":\n",
        "        result = result * num\n",
        "      elif operator == \"**\":\n",
        "        result = result ** num\n",
        "      elif operator == \"%\":\n",
        "        result = result % num\n",
        "      elif operator == \"//\":\n",
        "        result = result // num\n",
        "    return result\n",
        "\n",
        "\n"
      ]
    },
    {
      "cell_type": "code",
      "execution_count": null,
      "id": "eaf7c219-5958-4d39-81ea-4b7196a0644a",
      "metadata": {
        "colab": {
          "base_uri": "https://localhost:8080/"
        },
        "id": "eaf7c219-5958-4d39-81ea-4b7196a0644a",
        "outputId": "2333e943-81c6-44fa-9fe7-dd3d34eabdc9"
      },
      "outputs": [
        {
          "output_type": "execute_result",
          "data": {
            "text/plain": [
              "1"
            ]
          },
          "metadata": {},
          "execution_count": 113
        }
      ],
      "source": [
        "list_math([11, 5], \"%\")"
      ]
    },
    {
      "cell_type": "markdown",
      "id": "80d95519",
      "metadata": {
        "id": "80d95519"
      },
      "source": [
        "## 3 - Vowel and consonant count\n",
        "\n",
        "Write a function that accepts a string and counts the number of vowels and consonants in it. The function should print the result (and return nothing)."
      ]
    },
    {
      "cell_type": "code",
      "execution_count": null,
      "id": "7ba8bf10",
      "metadata": {
        "id": "7ba8bf10"
      },
      "outputs": [],
      "source": [
        "def count_vowels_and_consonants(letters):\n",
        "    \"\"\"\n",
        "    Counts vowels and constants in the string and print out the result.\n",
        "\n",
        "  define vowels and constants\n",
        "  vowels = a, e, i, o, u\n",
        "  constants = b, c, d, f, g, h, j, k, l, m, n, p, q, r, s, t, v, w, x, y, z\n",
        "  enumerate(letter, 0)\n",
        "    \"\"\"\n",
        "    vowels = \"a\", \"e\", \"i\", \"o\", \"u\"\n",
        "    vowel_count = 0\n",
        "    consonant_count = 0\n",
        "\n",
        "\n",
        "    for let in letters.lower():\n",
        "      if let in vowels:\n",
        "        vowel_count += 1\n",
        "      elif let.isalpha():\n",
        "        consonant_count += 1\n",
        "    print (f\"number of vowels: {vowel_count}\")\n",
        "    print (f\"number of consonants: {consonant_count}\")\n"
      ]
    },
    {
      "cell_type": "code",
      "execution_count": null,
      "id": "d385d009",
      "metadata": {
        "colab": {
          "base_uri": "https://localhost:8080/"
        },
        "id": "d385d009",
        "outputId": "e237a10a-1156-4428-d7b4-c1eb3ca46b77"
      },
      "outputs": [
        {
          "output_type": "stream",
          "name": "stdout",
          "text": [
            "number of vowels: 14\n",
            "number of consonants: 18\n"
          ]
        }
      ],
      "source": [
        "tongue_twister = \"Can you can a can as a canner can can a can?\"\n",
        "count_vowels_and_consonants(tongue_twister)"
      ]
    },
    {
      "cell_type": "code",
      "execution_count": null,
      "id": "07be3c53",
      "metadata": {
        "id": "07be3c53",
        "outputId": "9e4884d2-ab7b-4a4e-d7e4-2daecad5c016",
        "colab": {
          "base_uri": "https://localhost:8080/"
        }
      },
      "outputs": [
        {
          "output_type": "stream",
          "name": "stdout",
          "text": [
            "number of vowels: 14\n",
            "number of consonants: 18\n"
          ]
        }
      ],
      "source": [
        "count_vowels_and_consonants(tongue_twister)"
      ]
    },
    {
      "cell_type": "markdown",
      "id": "76041da3",
      "metadata": {
        "id": "76041da3"
      },
      "source": [
        "## 4 - Sum of even numbers\n",
        "\n",
        "Write a function that accepts a list of numbers and returns the sum of all even numbers.\n",
        "\n",
        "*Bonus: Using list comprehension, you can code this in a single line.*"
      ]
    },
    {
      "cell_type": "code",
      "execution_count": null,
      "id": "d9248d5c",
      "metadata": {
        "id": "d9248d5c"
      },
      "outputs": [],
      "source": [
        "def sum_of_even_numbers(numbers):\n",
        "    \"\"\"\n",
        "    Returns the sum of the even numbers in the list.\n",
        "    \"\"\"\n",
        "\n",
        "    \"\"\"\n",
        "    result = 0\n",
        "    even_number = numbers[0] % 2\n",
        "    for num in numbers[1:]:\n",
        "      if even_number == 0:\n",
        "        result =+ even_number\n",
        "    return result\n",
        "    \"\"\"\n",
        "    result = 0\n",
        "    for num in numbers:\n",
        "      if num % 2 == 0:\n",
        "        result += num\n",
        "    return result\n",
        "\n",
        "\n"
      ]
    },
    {
      "cell_type": "code",
      "execution_count": null,
      "id": "3d1f25a1",
      "metadata": {
        "id": "3d1f25a1"
      },
      "outputs": [],
      "source": [
        "numbers = [1, 2, 34, 567, 890, 98, 76, 543, 210, 12, 345, 57, 890]"
      ]
    },
    {
      "cell_type": "code",
      "execution_count": null,
      "id": "419bfa73",
      "metadata": {
        "scrolled": true,
        "colab": {
          "base_uri": "https://localhost:8080/"
        },
        "id": "419bfa73",
        "outputId": "f15ebb07-3589-4565-cfcf-b52a2cba261b"
      },
      "outputs": [
        {
          "output_type": "execute_result",
          "data": {
            "text/plain": [
              "2212"
            ]
          },
          "metadata": {},
          "execution_count": 119
        }
      ],
      "source": [
        "sum_of_even_numbers(numbers)"
      ]
    },
    {
      "cell_type": "markdown",
      "id": "4a411c80",
      "metadata": {
        "id": "4a411c80"
      },
      "source": [
        "## 5 - Five vowels?\n",
        "\n",
        "Write a function that accepts a string and returns whether it contain all five vowels."
      ]
    },
    {
      "cell_type": "code",
      "execution_count": null,
      "id": "88dcb9c0",
      "metadata": {
        "id": "88dcb9c0"
      },
      "outputs": [],
      "source": [
        "def contains_all_vowels(letters):\n",
        "    \"\"\"\n",
        "    Returns whether it contain all five vowels.\n",
        "    \"\"\"\n",
        "    \"\"\"\n",
        "    vowels = \"a\", \"e\", \"i\", \"o\", \"u\"\n",
        "    count = 0\n",
        "    for letter in letters.lower():\n",
        "      if letter in vowels:\n",
        "        count += 1\n",
        "        if count == 5:\n",
        "          return count\n",
        "\"\"\"\n",
        "\n",
        "# the question doesn't ask to return the string if vowels = 5\n",
        "# need to return it whether it contains all TYPES of vowels\n",
        "# seems like a weird algorithm question, reminds me of dfs\n",
        "# need to keep track of 2 things, whether a letter in the string was 'visited', then if that 'visited' letter was a vowel\n",
        "# if those 2 conditions meet, add that vowel in a list only if the character type hasn't been discovered yet\n",
        "\n",
        "    vowels = set(\"aeiou\")\n",
        "    found_vowels = set() #this is a good form of storage as it automatically avoids duplicates\n",
        "\n",
        "    for letter in letters.lower():\n",
        "      if letter in vowels:\n",
        "        found_vowels.add(letter)\n",
        "      if len(found_vowels) == 5:\n",
        "        return True\n",
        "    return False\n",
        "\n",
        "\n",
        "\n",
        "\n"
      ]
    },
    {
      "cell_type": "code",
      "execution_count": null,
      "id": "cb153127",
      "metadata": {
        "id": "cb153127",
        "outputId": "b8de4d89-8f6d-4a48-d034-67ad25f4c1ff",
        "colab": {
          "base_uri": "https://localhost:8080/"
        }
      },
      "outputs": [
        {
          "output_type": "execute_result",
          "data": {
            "text/plain": [
              "False"
            ]
          },
          "metadata": {},
          "execution_count": 121
        }
      ],
      "source": [
        "contains_all_vowels(\"Uriah Heep\")"
      ]
    },
    {
      "cell_type": "code",
      "execution_count": null,
      "id": "e470e1b4",
      "metadata": {
        "id": "e470e1b4",
        "outputId": "d29b06d9-f824-48ba-e846-92f88586fc97",
        "colab": {
          "base_uri": "https://localhost:8080/"
        }
      },
      "outputs": [
        {
          "output_type": "execute_result",
          "data": {
            "text/plain": [
              "False"
            ]
          },
          "metadata": {},
          "execution_count": 122
        }
      ],
      "source": [
        "contains_all_vowels(\"Aurelio\")\n",
        "contains_all_vowels(\"aeiou\")\n",
        "contains_all_vowels(\"aiou\")"
      ]
    },
    {
      "cell_type": "markdown",
      "id": "49bfd93f",
      "metadata": {
        "id": "49bfd93f"
      },
      "source": [
        "## 6 - Create words list\n",
        "\n",
        "Write a function that accepts a string (of words) and returns a string with all unique words in alphabetical order, separated by a space. Remove all punctuation, if any, and make all words lowercase."
      ]
    },
    {
      "cell_type": "code",
      "execution_count": null,
      "id": "c87fa427",
      "metadata": {
        "id": "c87fa427"
      },
      "outputs": [],
      "source": [
        "def word_list(sentence):\n",
        "    \"\"\"\n",
        "    Returns all words of the string sorted alphabetically.\n",
        "\n",
        "    must clean the string first and use a set() to avoid duplicates\n",
        "    \"\"\"\n",
        "\n",
        "    sentence = sentence.lower() #making sure they're all lowercase\n",
        "    cleaned_sentence = ''.join(char if char.isalnum() or char.isspace() else ' ' for char in sentence)\n",
        "    #.join concatenates the sequence of pricessed strings in a single string with a\n",
        "\n",
        "    words = cleaned_sentence.split()\n",
        "    #.split adds a\n",
        "    unique_words = set(words)\n",
        "    #make sure we avoid duplicates\n",
        "    sorted_words = sorted(unique_words)\n",
        "    #using sort function\n",
        "    return ' '.join(sorted_words)\n",
        "\n",
        "# the cleaned_sentence variable is created by going through each charactr in the original sentence\n",
        "# if the character is a letter or a number (char.isalnum()) keepts it as it is\n",
        "# if character is a space (char.isspace()), keeps it as it is\n",
        "# otherwise (e.g. punctuation or special characters) replace it with a single space ('')\n"
      ]
    },
    {
      "cell_type": "code",
      "execution_count": null,
      "id": "6be9dc42",
      "metadata": {
        "id": "6be9dc42"
      },
      "outputs": [],
      "source": [
        "tongue_twister = \"Frivolously, fanciful Fannie fried fresh fish furiously.\""
      ]
    },
    {
      "cell_type": "code",
      "execution_count": null,
      "id": "15a98f67",
      "metadata": {
        "scrolled": true,
        "id": "15a98f67",
        "colab": {
          "base_uri": "https://localhost:8080/",
          "height": 35
        },
        "outputId": "34da0b78-96a1-4e10-a08e-35bed56dff11"
      },
      "outputs": [
        {
          "output_type": "execute_result",
          "data": {
            "text/plain": [
              "'fanciful fannie fish fresh fried frivolously furiously'"
            ],
            "application/vnd.google.colaboratory.intrinsic+json": {
              "type": "string"
            }
          },
          "metadata": {},
          "execution_count": 125
        }
      ],
      "source": [
        "word_list(tongue_twister)"
      ]
    },
    {
      "cell_type": "code",
      "execution_count": null,
      "id": "518625f3-df61-4072-87fb-15d07c2f3c11",
      "metadata": {
        "id": "518625f3-df61-4072-87fb-15d07c2f3c11"
      },
      "outputs": [],
      "source": [
        "tongue_twister = \"Can you can a can as a canner can can a can?\""
      ]
    },
    {
      "cell_type": "code",
      "execution_count": null,
      "id": "4955ad50-412d-4053-b997-a241536c69e2",
      "metadata": {
        "scrolled": true,
        "id": "4955ad50-412d-4053-b997-a241536c69e2",
        "colab": {
          "base_uri": "https://localhost:8080/",
          "height": 35
        },
        "outputId": "3b9d4e06-d3a5-42a7-a0b0-691f81af9cda"
      },
      "outputs": [
        {
          "output_type": "execute_result",
          "data": {
            "text/plain": [
              "'a as can canner you'"
            ],
            "application/vnd.google.colaboratory.intrinsic+json": {
              "type": "string"
            }
          },
          "metadata": {},
          "execution_count": 127
        }
      ],
      "source": [
        "word_list(tongue_twister)"
      ]
    },
    {
      "cell_type": "markdown",
      "id": "98100c2b",
      "metadata": {
        "id": "98100c2b"
      },
      "source": [
        "## 7 - Days passed\n",
        "\n",
        "Write a function that accepts two strings containing dates in the iso format \"YYYY-MM-DD\" and calculates the number of days between the two dates.\n",
        "\n",
        "*Hint: Make use of the `datetime` library.*"
      ]
    },
    {
      "cell_type": "code",
      "execution_count": null,
      "id": "c2b4ec50",
      "metadata": {
        "id": "c2b4ec50"
      },
      "outputs": [],
      "source": [
        "from datetime import date\n",
        "def days_between(date1, date2):\n",
        "    \"\"\"\n",
        "    Returns the number of days between the two dates.\n",
        "\n",
        "    day_difference = first_date - second day\n",
        "    \"\"\"\n",
        "\n",
        "    timedelta = date.fromisoformat(date1) - date.fromisoformat(date2)\n",
        "    print(abs(timedelta.days))"
      ]
    },
    {
      "cell_type": "code",
      "execution_count": null,
      "id": "c83fa0c1",
      "metadata": {
        "id": "c83fa0c1",
        "colab": {
          "base_uri": "https://localhost:8080/"
        },
        "outputId": "fcf457af-1fcb-4e42-8f3e-a60caccfa679"
      },
      "outputs": [
        {
          "output_type": "stream",
          "name": "stdout",
          "text": [
            "16952\n"
          ]
        }
      ],
      "source": [
        "days_between(\"1977-08-22\", \"2024-01-20\")"
      ]
    },
    {
      "cell_type": "markdown",
      "id": "41758cc1",
      "metadata": {
        "id": "41758cc1"
      },
      "source": [
        "## 8 - Palindromes\n",
        "\n",
        "Write a function that accepts a string and returns whether this string is a palindrome, i.e. a string that reads the same from left to right and right to left, e.g. noon, level or radar."
      ]
    },
    {
      "cell_type": "code",
      "execution_count": null,
      "id": "be0a673d",
      "metadata": {
        "id": "be0a673d"
      },
      "outputs": [],
      "source": [
        "def is_palindrome(word):\n",
        "    \"\"\"\n",
        "    Returns whether the string is a palindrome.\n",
        "\n",
        "    need to check if the values in a string match the inverse\n",
        "    we can check the inverse through slicing [::-1]\n",
        "    \"\"\"\n",
        "\n",
        "    return word == word[::-1]"
      ]
    },
    {
      "cell_type": "code",
      "execution_count": null,
      "id": "018fbdba",
      "metadata": {
        "id": "018fbdba",
        "colab": {
          "base_uri": "https://localhost:8080/"
        },
        "outputId": "60bcf780-65b5-4af7-f6fc-f0519e51377d"
      },
      "outputs": [
        {
          "output_type": "execute_result",
          "data": {
            "text/plain": [
              "(True, True, False)"
            ]
          },
          "metadata": {},
          "execution_count": 131
        }
      ],
      "source": [
        "is_palindrome(\"racecar\"), is_palindrome(\"rotator\"), is_palindrome(\"economics\")"
      ]
    },
    {
      "cell_type": "markdown",
      "id": "54bb6de3",
      "metadata": {
        "id": "54bb6de3"
      },
      "source": [
        "## 9 - Most common character\n",
        "\n",
        "Write a function that accepts a string and finds its most common character."
      ]
    },
    {
      "cell_type": "code",
      "execution_count": null,
      "id": "fdf64745",
      "metadata": {
        "id": "fdf64745"
      },
      "outputs": [],
      "source": [
        "def most_common_char(word):\n",
        "    \"\"\"\n",
        "    Returns the string's most common character.\n",
        "    \"\"\"\n",
        "\n",
        "    all = {}\n",
        "    for char in word.lower():\n",
        "      if char.isalpha():\n",
        "        if char in all:\n",
        "          all[char] += 1\n",
        "        else:\n",
        "          all[char] = 1\n",
        "    all_sorted = sorted(all.items(), key = lambda item: item[1])\n",
        "    return all_sorted[-1][0]\n",
        "    return all\n",
        "\n",
        "\n"
      ]
    },
    {
      "cell_type": "code",
      "execution_count": null,
      "id": "c4d3e92e",
      "metadata": {
        "id": "c4d3e92e"
      },
      "outputs": [],
      "source": [
        "tongue_twister = \"How much wood would a woodchuck chuck if a woodchuck could chuck wood?\""
      ]
    },
    {
      "cell_type": "markdown",
      "id": "25d0e29c",
      "metadata": {
        "id": "25d0e29c"
      },
      "source": [
        "## 10 - Perfect numbers\n",
        "\n",
        "Write a function that checks whether a number is \"perfect\". A perfect number is an integer that is equal to the sum of its divisors (excluding itself, of course). For example: 6 is a perfect number because if you add up its divisors - 1, 2, and 3 - you get 6."
      ]
    },
    {
      "cell_type": "code",
      "execution_count": null,
      "id": "9abb01ac",
      "metadata": {
        "id": "9abb01ac"
      },
      "outputs": [],
      "source": [
        "def is_perfect_number(number):\n",
        "    \"\"\"\n",
        "    Determine whether the given number is perfect or not.\n",
        "    definition of a 'perfect number'\n",
        "    clean_divisor = []\n",
        "    for i in number:\n",
        "      if number % i == 0:\n",
        "        clean_divisor.append(i)\n",
        "          if i == number:\n",
        "        return False\n",
        "    return clean_dividsor\n",
        "    perfect_num = sum(clean_divisor) == number\n",
        "\n",
        "    \"\"\"\n",
        "\n",
        "    clean_divisor = []\n",
        "    for i in range(1, number):\n",
        "      if number % i == 0:\n",
        "        clean_divisor.append(i)\n",
        "\n",
        "    return sum(clean_divisor) == number"
      ]
    },
    {
      "cell_type": "code",
      "execution_count": null,
      "id": "77111273",
      "metadata": {
        "id": "77111273",
        "colab": {
          "base_uri": "https://localhost:8080/"
        },
        "outputId": "37b8ddae-5bd0-44ef-da87-e7db0f47c4cd"
      },
      "outputs": [
        {
          "output_type": "execute_result",
          "data": {
            "text/plain": [
              "True"
            ]
          },
          "metadata": {},
          "execution_count": 3
        }
      ],
      "source": [
        "is_perfect_number(6)"
      ]
    },
    {
      "cell_type": "markdown",
      "id": "5940d8bf",
      "metadata": {
        "id": "5940d8bf"
      },
      "source": [
        "## 11 - Cumulative sum\n",
        "\n",
        "Write a function that accepts a positive number and calculates the sum of all numbers from 1 to the given number. The function should be recursive, i.e. it calls itself."
      ]
    },
    {
      "cell_type": "code",
      "execution_count": null,
      "id": "c63baf05",
      "metadata": {
        "id": "c63baf05"
      },
      "outputs": [],
      "source": [
        "def cumulative_sum(n):\n",
        "  if n == 1:\n",
        "    return 1\n",
        "  else:\n",
        "    return n + cumulative_sum(n-1)\n",
        "\n",
        "    \"\"\"\n",
        "    Returns the sum of all numbers from 1 to number.\n",
        "    list_numbers = []\n",
        "    for i in range(1, number):\n",
        "      list_numbers.append(i)\n",
        "    return sum(list_numbers)\n",
        "    ----\n",
        "    list_numbers = []\n",
        "    for i in range(1, number):\n",
        "      list_numbers.append(i)\n",
        "    return sum(list_numbers) + number #added + number because return sum(list_numbers) does all the values up to the number excluding it\n",
        "    \"\"\""
      ]
    },
    {
      "cell_type": "code",
      "execution_count": null,
      "id": "b7f01dd8",
      "metadata": {
        "scrolled": true,
        "id": "b7f01dd8",
        "colab": {
          "base_uri": "https://localhost:8080/"
        },
        "outputId": "52760d9d-7230-4e08-bda7-4907c93c7502"
      },
      "outputs": [
        {
          "output_type": "execute_result",
          "data": {
            "text/plain": [
              "55"
            ]
          },
          "metadata": {},
          "execution_count": 59
        }
      ],
      "source": [
        "cumulative_sum(10)"
      ]
    },
    {
      "cell_type": "markdown",
      "id": "363c1d77",
      "metadata": {
        "id": "363c1d77"
      },
      "source": [
        "## 12 - Guess a number\n",
        "\n",
        "Write a function that accepts a minimum and maximum number and then tries to find the (whole) number between minimum and maximum (included) that the user thinks about. The function should guess a number, after which the user enters \"h\" if the number if higher than the guess, \"l\" if it is lower than the guess, and \"c\" if the guess is correct. The function should continue until the number has been found."
      ]
    },
    {
      "cell_type": "code",
      "execution_count": null,
      "id": "a821066c",
      "metadata": {
        "id": "a821066c"
      },
      "outputs": [],
      "source": [
        "def guess_number(value_min, value_max):\n",
        "    \"\"\"\n",
        "    The function tries to guess the (whole) number between min and max the user is thinking about.\n",
        "\n",
        "    first part needs the function to be able to identify which number given is max and min\n",
        "    then randomly guess between the 'range' between those\n",
        "    function waits for user input() and based on input() we identify the 'new' range\n",
        "    from where the program will guess another random until guessed_number = correct\n",
        "\n",
        "    guess_range = range(value_min, value_max)\n",
        "\n",
        "    value_min = min(number)\n",
        "    value_max = max(number)\n",
        "\n",
        "    for i in guess_range:\n",
        "      print(i, \"is this your value?\")\n",
        "      result = input()\n",
        "      if result == \"c\":\n",
        "        print(\"thanks for playing\")\n",
        "      elif result == \"h\":\n",
        "        for i in range(result, value_max):\n",
        "          print(i, \"how about now?\")\n",
        "      elif result == \"l\":\n",
        "        for i in range(value_max, guess_range):\n",
        "          print(i, \"how about now?\")\n",
        "        return guess == i\n",
        "      return guess == i\n",
        "\n",
        "      #didnt work :(\n",
        "    \"\"\"\n",
        "\n",
        "    low = value_min\n",
        "    high = value_max\n",
        "\n",
        "    while low <= high:\n",
        "        # Using the midpoint as the next guess; alternatively, you could use random.randint(low, high)\n",
        "        guess = (low + high) // 2\n",
        "        print(f\"Is your number {guess}?\")\n",
        "        response = input(\"enter 'h' if your number is higher, 'l' if lower or 'c' if correct: \").lower()\n",
        "\n",
        "        if response == \"c\":\n",
        "            print(\"Finally\")\n",
        "            return\n",
        "        elif response == \"h\":\n",
        "            # User's number is higher, so adjust the lower bound\n",
        "            low = guess + 1\n",
        "        elif response == \"l\":\n",
        "            # User's number is lower, so adjust the upper bound\n",
        "            high = guess - 1\n",
        "        else:\n",
        "            print(\"Please enter a valid input: 'h', 'l' or 'c'.\")\n",
        "\n",
        "    print(\"try follow the instructions correctly\")\n"
      ]
    },
    {
      "cell_type": "code",
      "execution_count": null,
      "id": "c93fd5d9",
      "metadata": {
        "id": "c93fd5d9",
        "colab": {
          "base_uri": "https://localhost:8080/"
        },
        "outputId": "a257a1d4-4a48-493b-d563-9977d99cde7c"
      },
      "outputs": [
        {
          "output_type": "stream",
          "name": "stdout",
          "text": [
            "Is your number 50?\n",
            "enter 'h' if your number is higher, 'l' if lower or 'c' if correct: H\n",
            "Is your number 75?\n",
            "enter 'h' if your number is higher, 'l' if lower or 'c' if correct: c\n",
            "Finally\n"
          ]
        }
      ],
      "source": [
        "guess_number(1,100)"
      ]
    },
    {
      "cell_type": "markdown",
      "id": "201d75a2",
      "metadata": {
        "id": "201d75a2"
      },
      "source": [
        "## 13 - Triangle check"
      ]
    },
    {
      "cell_type": "markdown",
      "id": "e7839e75",
      "metadata": {
        "id": "e7839e75"
      },
      "source": [
        "Write a function which takes the length of the three sides of a triangle and returns whether it is a right-angle triangle or not."
      ]
    },
    {
      "cell_type": "code",
      "source": [
        "def is_right_angled_triangle(lenght_1, lenght_2, lenght_3):\n",
        "    '''\n",
        "    lenghts = [lenght_1, lenght_2, lenght_3]\n",
        "    c = max(lenghts)\n",
        "    lenghts.pop(max(lenghts))\n",
        "    a = lenghts[0]\n",
        "    b = lenghts[1]\n",
        "    right_angled = a**2 + b**2 == c**2\n",
        "    return right_angled\n",
        "    '''\n",
        "\n",
        "    each_lenght = [lenght_1, lenght_2, lenght_3]\n",
        "    each_lenght.sort()\n",
        "    print(each_lenght)\n",
        "    return each_lenght[2]**2 == each_lenght[1]**2 + each_lenght[0]**2\n"
      ],
      "metadata": {
        "id": "kf4sW36iue-c"
      },
      "id": "kf4sW36iue-c",
      "execution_count": null,
      "outputs": []
    },
    {
      "cell_type": "code",
      "source": [
        "is_right_angled_triangle(1, 2, 3)"
      ],
      "metadata": {
        "colab": {
          "base_uri": "https://localhost:8080/"
        },
        "id": "Y8C_068guqiD",
        "outputId": "4f4920f2-49c4-4884-d9ee-fc6092d9b0a9"
      },
      "id": "Y8C_068guqiD",
      "execution_count": null,
      "outputs": [
        {
          "output_type": "stream",
          "name": "stdout",
          "text": [
            "[1, 2, 3]\n"
          ]
        },
        {
          "output_type": "execute_result",
          "data": {
            "text/plain": [
              "False"
            ]
          },
          "metadata": {},
          "execution_count": 102
        }
      ]
    },
    {
      "cell_type": "code",
      "execution_count": null,
      "id": "f6f3778e",
      "metadata": {
        "id": "f6f3778e",
        "colab": {
          "base_uri": "https://localhost:8080/"
        },
        "outputId": "d10dbcd9-1bd2-4ef0-c2d5-474fe31f3ab7"
      },
      "outputs": [
        {
          "output_type": "stream",
          "name": "stdout",
          "text": [
            "[3, 4, 5]\n"
          ]
        },
        {
          "output_type": "execute_result",
          "data": {
            "text/plain": [
              "True"
            ]
          },
          "metadata": {},
          "execution_count": 103
        }
      ],
      "source": [
        "is_right_angled_triangle(3,4,5)"
      ]
    }
  ],
  "metadata": {
    "kernelspec": {
      "display_name": "Python 3 (ipykernel)",
      "language": "python",
      "name": "python3"
    },
    "language_info": {
      "codemirror_mode": {
        "name": "ipython",
        "version": 3
      },
      "file_extension": ".py",
      "mimetype": "text/x-python",
      "name": "python",
      "nbconvert_exporter": "python",
      "pygments_lexer": "ipython3",
      "version": "3.11.5"
    },
    "varInspector": {
      "cols": {
        "lenName": 16,
        "lenType": 16,
        "lenVar": 40
      },
      "kernels_config": {
        "python": {
          "delete_cmd_postfix": "",
          "delete_cmd_prefix": "del ",
          "library": "var_list.py",
          "varRefreshCmd": "print(var_dic_list())"
        },
        "r": {
          "delete_cmd_postfix": ") ",
          "delete_cmd_prefix": "rm(",
          "library": "var_list.r",
          "varRefreshCmd": "cat(var_dic_list()) "
        }
      },
      "types_to_exclude": [
        "module",
        "function",
        "builtin_function_or_method",
        "instance",
        "_Feature"
      ],
      "window_display": false
    },
    "colab": {
      "provenance": []
    }
  },
  "nbformat": 4,
  "nbformat_minor": 5
}