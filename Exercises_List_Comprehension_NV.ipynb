{
  "cells": [
    {
      "cell_type": "markdown",
      "id": "a5f8b728",
      "metadata": {
        "id": "a5f8b728"
      },
      "source": [
        "# Excercises: List comprehension - Solutions"
      ]
    },
    {
      "cell_type": "markdown",
      "id": "f7ecf0ca",
      "metadata": {
        "id": "f7ecf0ca"
      },
      "source": [
        "## 0 - Number line\n",
        "\n",
        "Create a list from 0 to 12 (included) with list comprehension."
      ]
    },
    {
      "cell_type": "code",
      "execution_count": 1,
      "id": "bfdde6a6",
      "metadata": {
        "colab": {
          "base_uri": "https://localhost:8080/"
        },
        "id": "bfdde6a6",
        "outputId": "da1015bc-80d5-4a37-e7f8-518f195ed5fc"
      },
      "outputs": [
        {
          "output_type": "stream",
          "name": "stdout",
          "text": [
            "[0, 1, 2, 3, 4, 5, 6, 7, 8, 9, 10, 11, 12]\n"
          ]
        }
      ],
      "source": [
        "numbers = [x for x in range(13)]\n",
        "print(numbers)"
      ]
    },
    {
      "cell_type": "markdown",
      "id": "298f7166",
      "metadata": {
        "id": "298f7166"
      },
      "source": [
        "## 1 - Remainders\n",
        "\n",
        "Use list comprehension to find the remainder of division by 7 for each number in the list."
      ]
    },
    {
      "cell_type": "code",
      "execution_count": 2,
      "id": "d40268e3",
      "metadata": {
        "id": "d40268e3"
      },
      "outputs": [],
      "source": [
        "numbers = [1, 2, 34, 567, 890, 98, 76, 543, 210, 12, 345, 57, 890]"
      ]
    },
    {
      "cell_type": "code",
      "execution_count": 3,
      "id": "afa223d3",
      "metadata": {
        "colab": {
          "base_uri": "https://localhost:8080/"
        },
        "id": "afa223d3",
        "outputId": "c4c0d804-0137-435f-ed36-7c8b8f5d98c0"
      },
      "outputs": [
        {
          "output_type": "stream",
          "name": "stdout",
          "text": [
            "[1, 2, 6, 0, 1, 0, 6, 4, 0, 5, 2, 1, 1]\n"
          ]
        }
      ],
      "source": [
        "remainder = [x%7 for x in numbers]\n",
        "print(remainder)"
      ]
    },
    {
      "cell_type": "markdown",
      "id": "08ffc64b",
      "metadata": {
        "id": "08ffc64b"
      },
      "source": [
        "## 2 - Multiples of 3\n",
        "\n",
        "Create a list of all multiples of 3 between 1 and 100."
      ]
    },
    {
      "cell_type": "code",
      "execution_count": 4,
      "id": "7a5084bf",
      "metadata": {
        "colab": {
          "base_uri": "https://localhost:8080/"
        },
        "id": "7a5084bf",
        "outputId": "2e81fea9-4dff-4c74-f889-9cf1d997e387"
      },
      "outputs": [
        {
          "output_type": "stream",
          "name": "stdout",
          "text": [
            "[0, 3, 6, 9, 12, 15, 18, 21, 24, 27, 30, 33, 36, 39, 42, 45, 48, 51, 54, 57, 60, 63, 66, 69, 72, 75, 78, 81, 84, 87, 90, 93, 96, 99]\n"
          ]
        }
      ],
      "source": [
        "multiples_3 = [x for x in range(100) if x%3 == 0]\n",
        "print(multiples_3)"
      ]
    },
    {
      "cell_type": "markdown",
      "id": "4c02a9fe",
      "metadata": {
        "id": "4c02a9fe"
      },
      "source": [
        "## 3 - Name length\n",
        "\n",
        "Use list comprehension to create a new lists that contains the number of characters in each name below."
      ]
    },
    {
      "cell_type": "code",
      "execution_count": 5,
      "id": "3cee555e",
      "metadata": {
        "id": "3cee555e"
      },
      "outputs": [],
      "source": [
        "list_of_names = [\"LeBron\", \"Giannis\", \"Luka\", \"Kevin\", \"Nikola\", \"Stephen\", \"Jimmy\", \"Joel\", \"Jayson\", \"Shai\", \"Kwahi\"]"
      ]
    },
    {
      "cell_type": "code",
      "execution_count": 6,
      "id": "3b013787",
      "metadata": {
        "colab": {
          "base_uri": "https://localhost:8080/"
        },
        "id": "3b013787",
        "outputId": "5b77ae31-4e5f-4dff-c85e-4d4c6ad042fe"
      },
      "outputs": [
        {
          "output_type": "stream",
          "name": "stdout",
          "text": [
            "[6, 7, 4, 5, 6, 7, 5, 4, 6, 4, 5]\n"
          ]
        }
      ],
      "source": [
        "name_characters = [len(x) for x in list_of_names]\n",
        "print(name_characters)"
      ]
    },
    {
      "cell_type": "markdown",
      "id": "daa10b33",
      "metadata": {
        "id": "daa10b33"
      },
      "source": [
        "## 4 - Strings to integers\n",
        "\n",
        "Use list comprehension to turn the list of strings below into a list of numbers."
      ]
    },
    {
      "cell_type": "code",
      "execution_count": 7,
      "id": "2521b997",
      "metadata": {
        "id": "2521b997"
      },
      "outputs": [],
      "source": [
        "list_of_strings = [\"2\", \"3\", \"5\", \"7\", \"11\", \"13\", \"17\", \"19\"]"
      ]
    },
    {
      "cell_type": "code",
      "execution_count": 8,
      "id": "5c072fcb",
      "metadata": {
        "colab": {
          "base_uri": "https://localhost:8080/"
        },
        "id": "5c072fcb",
        "outputId": "88f7dab5-51e8-4865-93f5-21e053235810"
      },
      "outputs": [
        {
          "output_type": "stream",
          "name": "stdout",
          "text": [
            "[2, 3, 5, 7, 11, 13, 17, 19]\n"
          ]
        }
      ],
      "source": [
        "str_to_int = [int(x) for x in list_of_strings]\n",
        "print(str_to_int)"
      ]
    },
    {
      "cell_type": "markdown",
      "id": "b28872d7",
      "metadata": {
        "id": "b28872d7"
      },
      "source": [
        "## 5 - All even\n",
        "\n",
        "Use list comprehension to remove all odd numbers from the list."
      ]
    },
    {
      "cell_type": "code",
      "execution_count": 9,
      "id": "38d46aff",
      "metadata": {
        "id": "38d46aff"
      },
      "outputs": [],
      "source": [
        "numbers = [1, 2, 34, 567, 890, 98, 76, 543, 210, 12, 345, 57, 890]"
      ]
    },
    {
      "cell_type": "code",
      "execution_count": 10,
      "id": "423b8bf8",
      "metadata": {
        "colab": {
          "base_uri": "https://localhost:8080/"
        },
        "id": "423b8bf8",
        "outputId": "898fc805-829c-4028-94f9-35c64dd45700"
      },
      "outputs": [
        {
          "output_type": "stream",
          "name": "stdout",
          "text": [
            "[2, 34, 890, 98, 76, 210, 12, 890]\n"
          ]
        }
      ],
      "source": [
        "all_even = [x for x in numbers if x%2 == 0]\n",
        "print(all_even)"
      ]
    },
    {
      "cell_type": "markdown",
      "id": "427406f8",
      "metadata": {
        "id": "427406f8"
      },
      "source": [
        "## 6 - No numbers\n",
        "\n",
        "Use list comprehension to remove all numbers from the list. A number inside another list does not have to be removed."
      ]
    },
    {
      "cell_type": "code",
      "execution_count": 11,
      "id": "950d69ec",
      "metadata": {
        "id": "950d69ec"
      },
      "outputs": [],
      "source": [
        "mixed_list = [False, True, \"two\", 3, \"four\", 5, \"six\", [\"VII\", 8, \"1001\", \"X\"], 11]"
      ]
    },
    {
      "cell_type": "code",
      "execution_count": 12,
      "id": "ae0cb2af",
      "metadata": {
        "colab": {
          "base_uri": "https://localhost:8080/"
        },
        "id": "ae0cb2af",
        "outputId": "8ec17527-9cce-410f-f248-92d199138a48"
      },
      "outputs": [
        {
          "output_type": "stream",
          "name": "stdout",
          "text": [
            "[False, True, 'two', 'four', 'six', ['VII', 8, '1001', 'X']]\n"
          ]
        }
      ],
      "source": [
        "no_numb = [x for x in mixed_list if isinstance(x, bool) or not isinstance(x, int)]\n",
        "print(no_numb)"
      ]
    },
    {
      "cell_type": "markdown",
      "id": "4ddb44b2",
      "metadata": {
        "id": "4ddb44b2"
      },
      "source": [
        "## 7 - Three is the charm\n",
        "\n",
        "Use list comprehension to create a list of all numbers between 1 and 100 that contain a 3 (i.e. this includes 43, for example)."
      ]
    },
    {
      "cell_type": "code",
      "execution_count": 13,
      "id": "3fcbb6e2",
      "metadata": {
        "colab": {
          "base_uri": "https://localhost:8080/"
        },
        "id": "3fcbb6e2",
        "outputId": "ad4e1ac5-ded4-48e7-f5f1-486aac9a04d6"
      },
      "outputs": [
        {
          "output_type": "stream",
          "name": "stdout",
          "text": [
            "[3, 13, 23, 30, 31, 32, 33, 34, 35, 36, 37, 38, 39, 43, 53, 63, 73, 83, 93]\n"
          ]
        }
      ],
      "source": [
        "all_3 = [x for x in range(0, 100) if \"3\" in str(x)]\n",
        "print(all_3)"
      ]
    },
    {
      "cell_type": "markdown",
      "id": "868cea4b",
      "metadata": {
        "id": "868cea4b"
      },
      "source": [
        "## 8 - BnB\n",
        "\n",
        "Use list comprehension to count the number of letters \"b\" (irrespective of capitalization) in the tongue twister \"Betty Botter bought some butter, but she said the butter's bitter. If I put it in my batter, it will make my batter bitter.\""
      ]
    },
    {
      "cell_type": "code",
      "execution_count": 16,
      "id": "aca7a5a1",
      "metadata": {
        "id": "aca7a5a1"
      },
      "outputs": [],
      "source": [
        "tongue_twister = \"Betty Botter bought some butter, but she said the butter's bitter. If I put it in my batter, it will make my batter bitter.\""
      ]
    },
    {
      "cell_type": "code",
      "execution_count": 18,
      "id": "2f869851",
      "metadata": {
        "colab": {
          "base_uri": "https://localhost:8080/"
        },
        "id": "2f869851",
        "outputId": "81319f69-69e1-4c9a-ae36-7ff2a9a9b4ac"
      },
      "outputs": [
        {
          "output_type": "execute_result",
          "data": {
            "text/plain": [
              "10"
            ]
          },
          "metadata": {},
          "execution_count": 18
        }
      ],
      "source": [
        "b_counter = [x for x in tongue_twister.lower() if \"b\" in x]\n",
        "len(b_counter)"
      ]
    },
    {
      "cell_type": "markdown",
      "id": "1b8c98d9",
      "metadata": {
        "id": "1b8c98d9"
      },
      "source": [
        "## 10 - N vwls\n",
        "\n",
        "Use list comprehension to remove all vowels from the sentence."
      ]
    },
    {
      "cell_type": "code",
      "execution_count": 20,
      "id": "9220f3d4",
      "metadata": {
        "id": "9220f3d4"
      },
      "outputs": [],
      "source": [
        "python_zen1 = \"Flat is better than nested. Sparse is better than dense.\""
      ]
    },
    {
      "cell_type": "code",
      "execution_count": 21,
      "id": "41a9bf0d",
      "metadata": {
        "colab": {
          "base_uri": "https://localhost:8080/"
        },
        "id": "41a9bf0d",
        "outputId": "9c826001-f8d9-4e1d-91c7-dafd63e23980"
      },
      "outputs": [
        {
          "output_type": "stream",
          "name": "stdout",
          "text": [
            "Flt s bttr thn nstd. Sprs s bttr thn dns.\n"
          ]
        }
      ],
      "source": [
        "vowels = [\"a\", \"i\", \"o\", \"u\", \"e\"]\n",
        "\n",
        "n_vwls = [x for x in python_zen1 if x not in vowels]\n",
        "new_sentence = \"\".join(n_vwls)\n",
        "print(new_sentence)"
      ]
    },
    {
      "cell_type": "markdown",
      "id": "7a2dcf29",
      "metadata": {
        "id": "7a2dcf29"
      },
      "source": [
        "## 11 - Odd or even?\n",
        "\n",
        "Use list comprehension to create a new list from `numbers` where the entry is \"odd\" if the number in `numbers` is odd and \"even\" otherwise."
      ]
    },
    {
      "cell_type": "code",
      "execution_count": 22,
      "id": "cd06178e",
      "metadata": {
        "id": "cd06178e"
      },
      "outputs": [],
      "source": [
        "numbers = [1, 2, 34, 567, 890, 98, 76, 543, 210, 12, 345, 57, 890]"
      ]
    },
    {
      "cell_type": "code",
      "execution_count": 23,
      "id": "b858d6e1",
      "metadata": {
        "scrolled": true,
        "colab": {
          "base_uri": "https://localhost:8080/"
        },
        "id": "b858d6e1",
        "outputId": "00912c83-baf4-4707-cff6-37f34741241f"
      },
      "outputs": [
        {
          "output_type": "stream",
          "name": "stdout",
          "text": [
            "['Odd', 'Even', 'Even', 'Odd', 'Even', 'Even', 'Even', 'Odd', 'Even', 'Even', 'Odd', 'Odd', 'Even']\n"
          ]
        }
      ],
      "source": [
        "odd_even = [\"Odd\" if x%2 != 0 else \"Even\" for x in numbers]\n",
        "print(odd_even)"
      ]
    },
    {
      "cell_type": "markdown",
      "id": "775df53c",
      "metadata": {
        "id": "775df53c"
      },
      "source": [
        "## 12 - Flipcase\n",
        "\n",
        "Use list comprehension to make all lowercase letters uppercase and all uppercase letter lowercase."
      ]
    },
    {
      "cell_type": "code",
      "execution_count": 24,
      "id": "44954180",
      "metadata": {
        "id": "44954180"
      },
      "outputs": [],
      "source": [
        "python_zen2 = \"SpEcIaL CaSeS ArEn'T SpEcIaL EnOuGh To BrEaK ThE RuLeS.\""
      ]
    },
    {
      "cell_type": "code",
      "source": [
        "flipcase5 = [x.lower() if x.isupper() else x.upper() for x in python_zen2]\n",
        "final = \"\".join(flipcase5)\n",
        "print(final)"
      ],
      "metadata": {
        "colab": {
          "base_uri": "https://localhost:8080/"
        },
        "id": "buXHslOcgZAi",
        "outputId": "0b9b1e04-fb56-4947-b1d5-c8f6b67355f5"
      },
      "id": "buXHslOcgZAi",
      "execution_count": 25,
      "outputs": [
        {
          "output_type": "stream",
          "name": "stdout",
          "text": [
            "sPeCiAl cAsEs aReN't sPeCiAl eNoUgH tO bReAk tHe rUlEs.\n"
          ]
        }
      ]
    }
  ],
  "metadata": {
    "kernelspec": {
      "display_name": "Python 3 (ipykernel)",
      "language": "python",
      "name": "python3"
    },
    "language_info": {
      "codemirror_mode": {
        "name": "ipython",
        "version": 3
      },
      "file_extension": ".py",
      "mimetype": "text/x-python",
      "name": "python",
      "nbconvert_exporter": "python",
      "pygments_lexer": "ipython3",
      "version": "3.11.5"
    },
    "varInspector": {
      "cols": {
        "lenName": 16,
        "lenType": 16,
        "lenVar": 40
      },
      "kernels_config": {
        "python": {
          "delete_cmd_postfix": "",
          "delete_cmd_prefix": "del ",
          "library": "var_list.py",
          "varRefreshCmd": "print(var_dic_list())"
        },
        "r": {
          "delete_cmd_postfix": ") ",
          "delete_cmd_prefix": "rm(",
          "library": "var_list.r",
          "varRefreshCmd": "cat(var_dic_list()) "
        }
      },
      "types_to_exclude": [
        "module",
        "function",
        "builtin_function_or_method",
        "instance",
        "_Feature"
      ],
      "window_display": false
    },
    "colab": {
      "provenance": []
    }
  },
  "nbformat": 4,
  "nbformat_minor": 5
}