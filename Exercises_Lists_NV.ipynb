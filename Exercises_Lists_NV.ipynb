{
  "cells": [
    {
      "cell_type": "markdown",
      "id": "32012bf7",
      "metadata": {
        "id": "32012bf7"
      },
      "source": [
        "# Exercises - Lists"
      ]
    },
    {
      "cell_type": "markdown",
      "id": "ef9dd7f1",
      "metadata": {
        "id": "ef9dd7f1"
      },
      "source": [
        "## *No loops required*"
      ]
    },
    {
      "cell_type": "markdown",
      "id": "7f004bf0",
      "metadata": {
        "id": "7f004bf0"
      },
      "source": [
        "## 0 - Slicing\n",
        "\n",
        "1. Print the first four elements of the list.\n",
        "2. Print the last four elements of the list.\n",
        "3. Print every second element of the list.\n",
        "4. Print the whole list in reverse (using slices)."
      ]
    },
    {
      "cell_type": "code",
      "execution_count": 1,
      "id": "30b3044c",
      "metadata": {
        "id": "30b3044c"
      },
      "outputs": [],
      "source": [
        "marvel = [\"Adam Warlock\", \"Ben Reilly\", \"Carol Danvers\", \"Danny Rand\", \"Emma Frost\", \"Foggy Nelson\", \"Gwen Stacy\", \"Hank Pym\"]"
      ]
    },
    {
      "cell_type": "code",
      "source": [
        "print(marvel[0:4])\n",
        "print(marvel[-4:]) #print(marvel[4::])\n",
        "print(marvel[::2])\n",
        "print(marvel[::-1])"
      ],
      "metadata": {
        "colab": {
          "base_uri": "https://localhost:8080/"
        },
        "id": "TlGqFyO3aq_n",
        "outputId": "547fc9b0-0d3a-4e71-a15c-2fcb78a96db3"
      },
      "id": "TlGqFyO3aq_n",
      "execution_count": 2,
      "outputs": [
        {
          "output_type": "stream",
          "name": "stdout",
          "text": [
            "['Adam Warlock', 'Ben Reilly', 'Carol Danvers', 'Danny Rand']\n",
            "['Emma Frost', 'Foggy Nelson', 'Gwen Stacy', 'Hank Pym']\n",
            "['Adam Warlock', 'Carol Danvers', 'Emma Frost', 'Gwen Stacy']\n",
            "['Hank Pym', 'Gwen Stacy', 'Foggy Nelson', 'Emma Frost', 'Danny Rand', 'Carol Danvers', 'Ben Reilly', 'Adam Warlock']\n"
          ]
        }
      ]
    },
    {
      "cell_type": "markdown",
      "id": "e41eff22",
      "metadata": {
        "id": "e41eff22"
      },
      "source": [
        "## 1 - Swap elements\n",
        "\n",
        "Swap the elements at index 2 and 5. Once you managed, can you do it in a single line?"
      ]
    },
    {
      "cell_type": "code",
      "execution_count": 3,
      "id": "fd756b7e",
      "metadata": {
        "id": "fd756b7e"
      },
      "outputs": [],
      "source": [
        "my_list = [2,3,13,7,11,5]"
      ]
    },
    {
      "cell_type": "code",
      "source": [
        "my_list[2], my_list[5] = my_list[5], my_list[2]\n",
        "print(my_list)"
      ],
      "metadata": {
        "colab": {
          "base_uri": "https://localhost:8080/"
        },
        "id": "V9vtClHLcMiz",
        "outputId": "06acc4b2-d493-4919-d249-46e954f78d02"
      },
      "id": "V9vtClHLcMiz",
      "execution_count": 4,
      "outputs": [
        {
          "output_type": "stream",
          "name": "stdout",
          "text": [
            "[2, 3, 5, 7, 11, 13]\n"
          ]
        }
      ]
    },
    {
      "cell_type": "markdown",
      "id": "0e43f5ee",
      "metadata": {
        "id": "0e43f5ee"
      },
      "source": [
        "## 2 - Predict output\n",
        "\n",
        "What is the output of the code below? If you guess wrong, figure out why."
      ]
    },
    {
      "cell_type": "code",
      "execution_count": 5,
      "id": "872e4256",
      "metadata": {
        "colab": {
          "base_uri": "https://localhost:8080/"
        },
        "id": "872e4256",
        "outputId": "46379304-52b4-4b6d-f2ef-6574fbba193e"
      },
      "outputs": [
        {
          "output_type": "stream",
          "name": "stdout",
          "text": [
            "12\n"
          ]
        }
      ],
      "source": [
        "my_list_1 = [2,4,6,8,10,11,12,14]\n",
        "my_list_2 = my_list_1\n",
        "my_list_1.reverse()\n",
        "del my_list_1[2]\n",
        "print(my_list_2[-6])"
      ]
    },
    {
      "cell_type": "code",
      "source": [
        "# I guessed 6\n",
        "my_list_1 = [2,4,6,8,10,11,12,14]\n",
        "my_list_2 = my_list_1\n",
        "my_list_1.reverse()\n",
        "print(my_list_2) #[14, 12, 11, 10, 8, 6, 4, 2],\n",
        "#I thought it was 6 because I assumed that the reverse function is not gonna affect my_list_2 since it happened after setting it equal to 1, which at the time was [2,4,6,8,10,11,12,14]\n",
        "del my_list_1[2]\n",
        "print(my_list_1)\n",
        "print(my_list_2) #same here\n",
        "print(my_list_2[-6]) #makes sense now"
      ],
      "metadata": {
        "colab": {
          "base_uri": "https://localhost:8080/"
        },
        "id": "K-jALrzNdwf5",
        "outputId": "325c357d-c49f-486e-c85d-dec00ee4cd62"
      },
      "id": "K-jALrzNdwf5",
      "execution_count": 6,
      "outputs": [
        {
          "output_type": "stream",
          "name": "stdout",
          "text": [
            "[14, 12, 11, 10, 8, 6, 4, 2]\n",
            "[14, 12, 10, 8, 6, 4, 2]\n",
            "[14, 12, 10, 8, 6, 4, 2]\n",
            "12\n"
          ]
        }
      ]
    },
    {
      "cell_type": "markdown",
      "id": "12f71920",
      "metadata": {
        "id": "12f71920"
      },
      "source": [
        "## 3 - Check for empty list\n",
        "\n",
        "Check whether a list is empty without using `==` or `!=`. Print either `\"List is not empty.\"` or `\"List is empty.\"`."
      ]
    },
    {
      "cell_type": "code",
      "execution_count": 7,
      "id": "cf48eeef",
      "metadata": {
        "id": "cf48eeef"
      },
      "outputs": [],
      "source": [
        "empty_list = []\n",
        "non_empty_list = [1, 2, 3]\n"
      ]
    },
    {
      "cell_type": "code",
      "source": [
        "if empty_list:\n",
        "  print(\"this is not empty\")\n",
        "else:\n",
        "  print(\"this list is empty\")"
      ],
      "metadata": {
        "colab": {
          "base_uri": "https://localhost:8080/"
        },
        "id": "595S7AlyAkCK",
        "outputId": "a6847c48-4cd3-4480-ff84-c55c8e8c765d"
      },
      "id": "595S7AlyAkCK",
      "execution_count": 10,
      "outputs": [
        {
          "output_type": "stream",
          "name": "stdout",
          "text": [
            "this list is empty\n"
          ]
        }
      ]
    },
    {
      "cell_type": "markdown",
      "id": "a80fdaa2",
      "metadata": {
        "id": "a80fdaa2"
      },
      "source": [
        "## 4 - Range of a list\n",
        "\n",
        "Write code that calculates the range of a list of numbers, i.e. the difference between its smallest and largest element."
      ]
    },
    {
      "cell_type": "code",
      "execution_count": 11,
      "id": "7fc716d5",
      "metadata": {
        "colab": {
          "base_uri": "https://localhost:8080/"
        },
        "id": "7fc716d5",
        "outputId": "cb39b5dd-2b75-408a-ae9d-76fe9b608104"
      },
      "outputs": [
        {
          "output_type": "execute_result",
          "data": {
            "text/plain": [
              "23"
            ]
          },
          "metadata": {},
          "execution_count": 11
        }
      ],
      "source": [
        "numbers = [2, 3, 5, 7, 11, 13, 17, 19, 23]\n",
        "max(numbers)"
      ]
    },
    {
      "cell_type": "code",
      "source": [
        "print(max(numbers) - min(numbers))"
      ],
      "metadata": {
        "colab": {
          "base_uri": "https://localhost:8080/"
        },
        "id": "ywTvxLQnBEZQ",
        "outputId": "57280624-67c5-4777-bb5e-a216cf6428ed"
      },
      "id": "ywTvxLQnBEZQ",
      "execution_count": 12,
      "outputs": [
        {
          "output_type": "stream",
          "name": "stdout",
          "text": [
            "21\n"
          ]
        }
      ]
    },
    {
      "cell_type": "markdown",
      "id": "94e1be98",
      "metadata": {
        "id": "94e1be98"
      },
      "source": [
        "## 5 - Randomization\n",
        "\n",
        "Using the `random` library, do the following with the list below:\n",
        "\n",
        "1. Draw a random element from the list.\n",
        "2. Randomize the order of the elements in the list.\n",
        "3. Draw 5 random numbers from the number list with replacement (i.e. the same number may be drawn more than once).\n",
        "3. Draw 5 random numbers from the number list without replacement (i.e. the same number may not be drawn more than once)."
      ]
    },
    {
      "cell_type": "code",
      "execution_count": 13,
      "id": "3bc8e277",
      "metadata": {
        "id": "3bc8e277"
      },
      "outputs": [],
      "source": [
        "import random\n",
        "numbers = [0, 1, 2, 3, 4, 5, 6, 7, 8, 9, 10]"
      ]
    },
    {
      "cell_type": "code",
      "source": [
        "#1\n",
        "print(random.choice(numbers))"
      ],
      "metadata": {
        "colab": {
          "base_uri": "https://localhost:8080/"
        },
        "id": "lGgrN6lbCa0d",
        "outputId": "8d93bf5f-c2fe-4c19-b366-4eab3985451e"
      },
      "id": "lGgrN6lbCa0d",
      "execution_count": 14,
      "outputs": [
        {
          "output_type": "stream",
          "name": "stdout",
          "text": [
            "8\n"
          ]
        }
      ]
    },
    {
      "cell_type": "code",
      "source": [
        "#2\n",
        "random.shuffle(numbers)\n",
        "numbers"
      ],
      "metadata": {
        "colab": {
          "base_uri": "https://localhost:8080/"
        },
        "id": "tBGJ45ohCD13",
        "outputId": "3e5ca1ba-d72f-4a73-acbf-80e1984e68ab"
      },
      "id": "tBGJ45ohCD13",
      "execution_count": 15,
      "outputs": [
        {
          "output_type": "execute_result",
          "data": {
            "text/plain": [
              "[9, 0, 5, 7, 1, 4, 10, 2, 6, 8, 3]"
            ]
          },
          "metadata": {},
          "execution_count": 15
        }
      ]
    },
    {
      "cell_type": "code",
      "source": [
        "#3\n",
        "print(random.choices(numbers, k = 5))"
      ],
      "metadata": {
        "colab": {
          "base_uri": "https://localhost:8080/"
        },
        "id": "lHRpRfWQDpV8",
        "outputId": "80b2ed8c-07c1-4e78-e83d-15b721c1056e"
      },
      "id": "lHRpRfWQDpV8",
      "execution_count": 16,
      "outputs": [
        {
          "output_type": "stream",
          "name": "stdout",
          "text": [
            "[8, 0, 1, 2, 5]\n"
          ]
        }
      ]
    },
    {
      "cell_type": "code",
      "source": [
        "#4\n",
        "print(random.sample(numbers, 5))"
      ],
      "metadata": {
        "colab": {
          "base_uri": "https://localhost:8080/"
        },
        "id": "CUh1ph28Dppa",
        "outputId": "6d97e544-875f-4d51-e40e-a0908cc66c9c"
      },
      "id": "CUh1ph28Dppa",
      "execution_count": 17,
      "outputs": [
        {
          "output_type": "stream",
          "name": "stdout",
          "text": [
            "[7, 8, 10, 1, 0]\n"
          ]
        }
      ]
    },
    {
      "cell_type": "markdown",
      "id": "7e2dbdfe",
      "metadata": {
        "id": "7e2dbdfe"
      },
      "source": [
        "## 6 - Twice but not thrice\n",
        "\n",
        "Below are three lists of numbers. Write code that checks for a given number whether it belongs to exactly two of the lists (but not all three, just one or none)."
      ]
    },
    {
      "cell_type": "code",
      "execution_count": 18,
      "id": "2cd6c503",
      "metadata": {
        "id": "2cd6c503"
      },
      "outputs": [],
      "source": [
        "primes = [2, 3, 5, 7, 11, 13, 17, 19, 23, 29, 31, 37, 41, 43, 47, 53, 59, 61, 67, 71, 73, 79, 83, 89, 97, 101, 103, 107, 109, 113, 127, 131, 137, 139]\n",
        "triangle = [1, 3, 6, 10, 15, 21, 28, 36, 45, 55, 66, 78, 91, 105, 120, 136]\n",
        "fibonacci = [1, 1, 2, 3, 5, 8, 13, 21, 44, 65, 109]\n",
        "\n",
        "number1 = 13 #2 lists, pri and fib\n",
        "number2 = 3 #3 lists\n",
        "number3 = 113 #1 list, pri"
      ]
    },
    {
      "cell_type": "code",
      "source": [
        "#to make it easier to test\n",
        "number = int(input())\n",
        "\n",
        "in_primes = number in primes\n",
        "in_triangle = number in triangle\n",
        "in_fibonacci = number in fibonacci\n",
        "\n",
        "#lists the number appears in\n",
        "count = in_primes + in_triangle + in_fibonacci\n",
        "\n",
        "if count == 3:\n",
        "    print(\"It's in 3 lists\")\n",
        "elif count == 2:\n",
        "    print(\"It's in 2 lists\")\n",
        "else:\n",
        "    print(\"It's in 1 list\")"
      ],
      "metadata": {
        "colab": {
          "base_uri": "https://localhost:8080/"
        },
        "id": "YlPAZGv4KrND",
        "outputId": "8a53a73d-10e5-48b0-b35c-24028ed6e687"
      },
      "id": "YlPAZGv4KrND",
      "execution_count": 24,
      "outputs": [
        {
          "output_type": "stream",
          "name": "stdout",
          "text": [
            "113\n",
            "It's in 1 list\n"
          ]
        }
      ]
    },
    {
      "cell_type": "markdown",
      "id": "a8c4f443",
      "metadata": {
        "id": "a8c4f443"
      },
      "source": [
        "## 7 - A list with 'and'\n",
        "\n",
        "Below is a list of countries. Print them in a sentence, but the last element should be preceded by an 'and', not by a comma.\n",
        "\n",
        "*Hint: This might require the use of a string method.*"
      ]
    },
    {
      "cell_type": "code",
      "execution_count": 25,
      "id": "ffa1cf89",
      "metadata": {
        "id": "ffa1cf89"
      },
      "outputs": [],
      "source": [
        "countries = [\"Germany\", \"China\", \"Mongolia\", \"France\", \"United States\", \"Canada\"]"
      ]
    },
    {
      "cell_type": "code",
      "source": [
        "print(countries[0] + \"\".join(\", \") + countries[1] + \"\".join(\", \") + countries[2] + \"\".join(\", \") + countries[3] + \"\".join(\", \") + countries[4] + \"\".join(\" and \") +  countries[5])\n"
      ],
      "metadata": {
        "colab": {
          "base_uri": "https://localhost:8080/"
        },
        "id": "TaPk1UNJPde6",
        "outputId": "3edf6ada-afc2-4a4f-b116-057589f13da9"
      },
      "id": "TaPk1UNJPde6",
      "execution_count": 26,
      "outputs": [
        {
          "output_type": "stream",
          "name": "stdout",
          "text": [
            "Germany, China, Mongolia, France, United States and Canada\n"
          ]
        }
      ]
    },
    {
      "cell_type": "markdown",
      "id": "38327a69",
      "metadata": {
        "id": "38327a69"
      },
      "source": [
        "## *Loops required*"
      ]
    },
    {
      "cell_type": "markdown",
      "id": "c5f0446a",
      "metadata": {
        "id": "c5f0446a"
      },
      "source": [
        "## 0 - Reverse order\n",
        "\n",
        "Reverse the order of the list using a loop."
      ]
    },
    {
      "cell_type": "code",
      "execution_count": 27,
      "id": "9a9c0635",
      "metadata": {
        "id": "9a9c0635"
      },
      "outputs": [],
      "source": [
        "my_list = [19, 17, 13, 11, 7, 5, 3, 2]"
      ]
    },
    {
      "cell_type": "code",
      "source": [
        "reverse = [my_list[x] for x in range(len(my_list) -1, -1, -1)]\n",
        "print(reverse)"
      ],
      "metadata": {
        "colab": {
          "base_uri": "https://localhost:8080/"
        },
        "id": "G16Y-SWLTwsf",
        "outputId": "a2fbfc57-4867-4e86-99fb-7fa8a77cce03"
      },
      "id": "G16Y-SWLTwsf",
      "execution_count": 28,
      "outputs": [
        {
          "output_type": "stream",
          "name": "stdout",
          "text": [
            "[2, 3, 5, 7, 11, 13, 17, 19]\n"
          ]
        }
      ]
    },
    {
      "cell_type": "markdown",
      "id": "184b4d67",
      "metadata": {
        "id": "184b4d67"
      },
      "source": [
        "## 1 - Chessboard"
      ]
    },
    {
      "cell_type": "markdown",
      "id": "a0d8d396",
      "metadata": {
        "id": "a0d8d396"
      },
      "source": [
        "Write code that creates a list representation of a chess board. On a chessboard, the rows are numbers from 1-8 and the columns are letters from A-H. So your list should contain 64 elements A1 to H8.\n",
        "\n",
        "Do not use list comprehension."
      ]
    },
    {
      "cell_type": "code",
      "execution_count": 29,
      "id": "5adf191b",
      "metadata": {
        "scrolled": true,
        "id": "5adf191b"
      },
      "outputs": [],
      "source": [
        "chess_board = []"
      ]
    },
    {
      "cell_type": "code",
      "source": [
        "row = [\"1\", \"2\", \"3\", \"4\", \"5\", \"6\", \"7\", \"8\"]\n",
        "column = [\"A\", \"B\", \"C\", \"D\", \"E\", \"F\", \"G\", \"H\"]"
      ],
      "metadata": {
        "id": "bEzoygsGVcdy"
      },
      "id": "bEzoygsGVcdy",
      "execution_count": 30,
      "outputs": []
    },
    {
      "cell_type": "code",
      "source": [
        "for i in column:\n",
        "  for x in row:\n",
        "    chess_board.append(i + x)\n",
        "\n",
        "print(chess_board)"
      ],
      "metadata": {
        "colab": {
          "base_uri": "https://localhost:8080/"
        },
        "id": "h3wF3ZzHrU97",
        "outputId": "ccd2f623-a8ba-4304-8266-8085c352c0cc"
      },
      "id": "h3wF3ZzHrU97",
      "execution_count": 68,
      "outputs": [
        {
          "output_type": "stream",
          "name": "stdout",
          "text": [
            "['A1', 'A2', 'A3', 'A4', 'A5', 'A6', 'A7', 'A8', 'B1', 'B2', 'B3', 'B4', 'B5', 'B6', 'B7', 'B8', 'C1', 'C2', 'C3', 'C4', 'C5', 'C6', 'C7', 'C8', 'D1', 'D2', 'D3', 'D4', 'D5', 'D6', 'D7', 'D8', 'E1', 'E2', 'E3', 'E4', 'E5', 'E6', 'E7', 'E8', 'F1', 'F2', 'F3', 'F4', 'F5', 'F6', 'F7', 'F8', 'G1', 'G2', 'G3', 'G4', 'G5', 'G6', 'G7', 'G8', 'H1', 'H2', 'H3', 'H4', 'H5', 'H6', 'H7', 'H8', 'A1', 'A2', 'A3', 'A4', 'A5', 'A6', 'A7', 'A8', 'B1', 'B2', 'B3', 'B4', 'B5', 'B6', 'B7', 'B8', 'C1', 'C2', 'C3', 'C4', 'C5', 'C6', 'C7', 'C8', 'D1', 'D2', 'D3', 'D4', 'D5', 'D6', 'D7', 'D8', 'E1', 'E2', 'E3', 'E4', 'E5', 'E6', 'E7', 'E8', 'F1', 'F2', 'F3', 'F4', 'F5', 'F6', 'F7', 'F8', 'G1', 'G2', 'G3', 'G4', 'G5', 'G6', 'G7', 'G8', 'H1', 'H2', 'H3', 'H4', 'H5', 'H6', 'H7', 'H8']\n"
          ]
        }
      ]
    },
    {
      "cell_type": "markdown",
      "id": "23a08838",
      "metadata": {
        "id": "23a08838"
      },
      "source": [
        "## 2 - Chessboard II"
      ]
    },
    {
      "cell_type": "markdown",
      "id": "cfdf3ac8",
      "metadata": {
        "id": "cfdf3ac8"
      },
      "source": [
        "Repeat the exercise from 3, only this time create a two-dimensional array, i.e. a list containing a list for each column.\n",
        "\n",
        "Do not use list comprehension."
      ]
    },
    {
      "cell_type": "code",
      "execution_count": null,
      "id": "e1829a56",
      "metadata": {
        "id": "e1829a56",
        "outputId": "0131c63a-b47d-4a2c-b972-7490ad7c8ca7"
      },
      "outputs": [
        {
          "name": "stdout",
          "output_type": "stream",
          "text": [
            "[['A1', 'A2', 'A3', 'A4', 'A5', 'A6', 'A7', 'A8'], ['B1', 'B2', 'B3', 'B4', 'B5', 'B6', 'B7', 'B8'], ['C1', 'C2', 'C3', 'C4', 'C5', 'C6', 'C7', 'C8'], ['D1', 'D2', 'D3', 'D4', 'D5', 'D6', 'D7', 'D8'], ['E1', 'E2', 'E3', 'E4', 'E5', 'E6', 'E7', 'E8'], ['F1', 'F2', 'F3', 'F4', 'F5', 'F6', 'F7', 'F8'], ['G1', 'G2', 'G3', 'G4', 'G5', 'G6', 'G7', 'G8'], ['H1', 'H2', 'H3', 'H4', 'H5', 'H6', 'H7', 'H8']]\n"
          ]
        }
      ],
      "source": [
        "chess_board_2D = []"
      ]
    },
    {
      "cell_type": "code",
      "source": [
        "chess_board_2D = []\n",
        "#row_2D = [1, 2, 3, 4, 5, 6, 7, 8]\n",
        "row_2D = [\"1\", \"2\", \"3\", \"4\", \"5\", \"6\", \"7\", \"8\"]\n",
        "\n",
        "column_2D = [\"A\", \"B\", \"C\", \"D\", \"E\", \"F\", \"G\", \"H\"]"
      ],
      "metadata": {
        "id": "VMg5uxsMkgca"
      },
      "id": "VMg5uxsMkgca",
      "execution_count": 33,
      "outputs": []
    },
    {
      "cell_type": "code",
      "source": [
        "chess_board_2D = []\n",
        "chess_board = []\n",
        "row_2D = [\"1\", \"2\", \"3\", \"4\", \"5\", \"6\", \"7\", \"8\"]\n",
        "column_2D = [\"A\", \"B\", \"C\", \"D\", \"E\", \"F\", \"G\", \"H\"]\n",
        "\n",
        "for i in column:\n",
        "  for x in row:\n",
        "    chess_board.append(i + x)\n",
        "\n",
        "for i in range(0, len(chess_board), 8):\n",
        "  chess_board_2D.append(chess_board[i:i+8])\n",
        "print(chess_board_2D)\n",
        "\n"
      ],
      "metadata": {
        "colab": {
          "base_uri": "https://localhost:8080/"
        },
        "id": "hbxTWRa0Nong",
        "outputId": "b9a23ce7-5038-40ca-f509-b5cb478bde61"
      },
      "id": "hbxTWRa0Nong",
      "execution_count": 35,
      "outputs": [
        {
          "output_type": "stream",
          "name": "stdout",
          "text": [
            "[['A1', 'A2', 'A3', 'A4', 'A5', 'A6', 'A7', 'A8'], ['B1', 'B2', 'B3', 'B4', 'B5', 'B6', 'B7', 'B8'], ['C1', 'C2', 'C3', 'C4', 'C5', 'C6', 'C7', 'C8'], ['D1', 'D2', 'D3', 'D4', 'D5', 'D6', 'D7', 'D8'], ['E1', 'E2', 'E3', 'E4', 'E5', 'E6', 'E7', 'E8'], ['F1', 'F2', 'F3', 'F4', 'F5', 'F6', 'F7', 'F8'], ['G1', 'G2', 'G3', 'G4', 'G5', 'G6', 'G7', 'G8'], ['H1', 'H2', 'H3', 'H4', 'H5', 'H6', 'H7', 'H8']]\n"
          ]
        }
      ]
    },
    {
      "cell_type": "markdown",
      "id": "63fba891",
      "metadata": {
        "id": "63fba891"
      },
      "source": [
        "## 3 - Bubble sort\n",
        "\n",
        "Bubble sort by hand (i.e. not using `.sort()`) the list below. Bubble sort is an algorithm that works  by examining each pair of adjacent elements from left to right and switching their positions if they the latter is smaller than the former. The algorithm then repeats this process until it can run through the entire list without finding elements that need to be swapped. Read more about bubble sort [here](https://www.productplan.com/glossary/bubble-sort/)."
      ]
    },
    {
      "cell_type": "code",
      "execution_count": 37,
      "id": "9d5ee741",
      "metadata": {
        "colab": {
          "base_uri": "https://localhost:8080/"
        },
        "id": "9d5ee741",
        "outputId": "a2f9d3a1-d369-4620-bada-93b7b1b2f165"
      },
      "outputs": [
        {
          "output_type": "stream",
          "name": "stdout",
          "text": [
            "[2, 5, 7, 11, 13, 17]\n"
          ]
        }
      ],
      "source": [
        "my_list = [2, 5, 17, 13, 11, 7]  # list to sort\n",
        "for x in range(len(my_list) - 1):\n",
        "  for i in range(len(my_list) - 1):\n",
        "    if my_list[i] > my_list[i+1]:\n",
        "      my_list[i], my_list[i+1] = my_list[i+1], my_list[i]\n",
        "\n",
        "print(my_list)\n",
        "\n"
      ]
    },
    {
      "cell_type": "markdown",
      "id": "b003e260",
      "metadata": {
        "id": "b003e260"
      },
      "source": [
        "## 4 - Data types\n",
        "\n",
        "Write code that creates a dictionary which lists all the data types in given list (You can, but do not have to, write this as a function). Make this as flexible as possible."
      ]
    },
    {
      "cell_type": "code",
      "execution_count": 40,
      "id": "c5579004",
      "metadata": {
        "id": "c5579004"
      },
      "outputs": [],
      "source": [
        "my_list = [True, 3, 3.14, 7, \"two\", \"7\", False, [1,2,3]]"
      ]
    },
    {
      "cell_type": "code",
      "source": [
        "tyty = []\n",
        "bool_counter = 0\n",
        "int_counter = 0\n",
        "float_counter = 0\n",
        "str_counter = 0\n",
        "list_counter = 0\n",
        "\n",
        "for i in my_list:\n",
        "  if type(i) == bool:\n",
        "    bool_counter += 1\n",
        "  elif type(i) == int:\n",
        "    int_counter += 1\n",
        "  elif type(i) == float:\n",
        "    float_counter += 1\n",
        "  elif type(i) == str:\n",
        "    str_counter += 1\n",
        "  else:\n",
        "    list_counter += 1\n",
        "\n",
        "\n"
      ],
      "metadata": {
        "id": "wLJxWOBPlTg6"
      },
      "id": "wLJxWOBPlTg6",
      "execution_count": 44,
      "outputs": []
    },
    {
      "cell_type": "code",
      "source": [
        "data_ty = {\"bool\" : bool_counter,\n",
        "           \"int\" : int_counter,\n",
        "           \"str\" : str_counter,\n",
        "           \"float\" : float_counter,\n",
        "           \"list\" : list_counter}\n",
        "\n",
        "print(data_ty)"
      ],
      "metadata": {
        "colab": {
          "base_uri": "https://localhost:8080/"
        },
        "id": "UN29mHsmnXp4",
        "outputId": "28bece5e-1247-45c3-8d39-8b1eeebaf93f"
      },
      "id": "UN29mHsmnXp4",
      "execution_count": 45,
      "outputs": [
        {
          "output_type": "stream",
          "name": "stdout",
          "text": [
            "{'bool': 2, 'int': 2, 'str': 2, 'float': 1, 'list': 1}\n"
          ]
        }
      ]
    },
    {
      "cell_type": "markdown",
      "id": "92f0994d",
      "metadata": {
        "id": "92f0994d"
      },
      "source": [
        "## 5 - Duplicate elements"
      ]
    },
    {
      "cell_type": "markdown",
      "id": "7f93ea94",
      "metadata": {
        "id": "7f93ea94"
      },
      "source": [
        "Write code that removes all duplicate elements from a list with a loop."
      ]
    },
    {
      "cell_type": "code",
      "execution_count": 46,
      "id": "67eec5cb",
      "metadata": {
        "id": "67eec5cb"
      },
      "outputs": [],
      "source": [
        "my_list = [2, 5, 17, 2, 13, 5, 11, 11, 13, 7, 2]"
      ]
    },
    {
      "cell_type": "code",
      "source": [
        "list_2 = []\n",
        "for i in my_list:\n",
        "  if i not in list_2:\n",
        "    list_2.append(i)\n",
        "\n",
        "print(list_2)"
      ],
      "metadata": {
        "colab": {
          "base_uri": "https://localhost:8080/"
        },
        "id": "jH_SiFh_qNya",
        "outputId": "ea8e927f-0b47-42b9-9c42-88caf7ce1bca"
      },
      "id": "jH_SiFh_qNya",
      "execution_count": 48,
      "outputs": [
        {
          "output_type": "stream",
          "name": "stdout",
          "text": [
            "[2, 5, 17, 13, 11, 7]\n"
          ]
        }
      ]
    },
    {
      "cell_type": "markdown",
      "id": "e2c102f8",
      "metadata": {
        "id": "e2c102f8"
      },
      "source": [
        "## 6 - Set operations\n",
        "\n",
        "Write code that takes two sets (lists) and returns one set which ...\n",
        "\n",
        "1. is the union of the two lists (the union is the set of all elements contained in either set - no duplciated).\n",
        "2. is the intersection of the two lists (the intersection is the set of all elements contained in both sets)\n",
        "3. is the difference of the two lists (the difference is the first set with all elements removed that are also part of the second set).\n",
        "4. is the symmetric difference of the two lists (the symmetric difference is the set of all elements contained in one of the two sets, but not both).\n",
        "\n",
        "*Hint: If you are familiar with functions, code the four operations as functions, but you do not have to do that.*"
      ]
    },
    {
      "cell_type": "code",
      "execution_count": 49,
      "id": "68a1bea4",
      "metadata": {
        "id": "68a1bea4"
      },
      "outputs": [],
      "source": [
        "set1 = [\"black\", \"blue\", \"green\", \"red\", \"white\", \"yellow\"]\n",
        "set2 = [\"beige\", \"black\", \"grey\", \"taupe\", \"white\"]\n",
        "set3 = [\"beige\", \"brown\", \"orange\", \"red\", \"tan\", \"yellow\"]\n",
        "set4 = [\"blue\", \"cyan\", \"green\", \"pink\", \"turquoise\"]"
      ]
    },
    {
      "cell_type": "code",
      "source": [
        "#black = 1, blue = 2, green = 3, red = 4, white = 5, yellow = 6, beige = 7, grey = 8\n",
        "#taupe = 9, brown = 10, orange = 11, tan = 12, cyan = 13, pink = 14, turq = 15\n",
        "#set_1 = [1, 2, 3, 4, 5, 6]\n",
        "#set_3 = [7, 10, 11, 4, 12, 6]\n",
        "#set_2 = [7, 2, 8, 9, 5]\n",
        "#set_4 = [2, 13, 3, 14, 15]"
      ],
      "metadata": {
        "id": "bErVCSLpzivn"
      },
      "id": "bErVCSLpzivn",
      "execution_count": 50,
      "outputs": []
    },
    {
      "cell_type": "code",
      "source": [
        "intersection = []\n",
        "\n",
        "#intersection = in both sets\n",
        "for i in set1:\n",
        "  for x in set2:\n",
        "    if i == x:\n",
        "      intersection.append(i)\n",
        "intersection"
      ],
      "metadata": {
        "colab": {
          "base_uri": "https://localhost:8080/"
        },
        "id": "3A25RVOm39oC",
        "outputId": "00895cfb-8ed5-40af-d4e4-17893a72d037"
      },
      "id": "3A25RVOm39oC",
      "execution_count": 55,
      "outputs": [
        {
          "output_type": "execute_result",
          "data": {
            "text/plain": [
              "['black', 'white']"
            ]
          },
          "metadata": {},
          "execution_count": 55
        }
      ]
    },
    {
      "cell_type": "code",
      "source": [
        "uni = []\n",
        "uni_2 = []\n",
        "\n",
        "#adding everything to a list\n",
        "for i in set1:\n",
        "  uni.append(i)\n",
        "for x in set2:\n",
        "  uni.append(x)\n",
        "\n",
        "#removing duplicates\n",
        "for i in uni:\n",
        "  if i not in uni_2:\n",
        "    uni_2.append(i)\n",
        "\n",
        "uni_2"
      ],
      "metadata": {
        "colab": {
          "base_uri": "https://localhost:8080/"
        },
        "id": "m0YxJPbM5Dh6",
        "outputId": "404e0901-3e88-4d17-c9bf-d1b81149f6c9"
      },
      "id": "m0YxJPbM5Dh6",
      "execution_count": 56,
      "outputs": [
        {
          "output_type": "execute_result",
          "data": {
            "text/plain": [
              "['black', 'blue', 'green', 'red', 'white', 'yellow', 'beige', 'grey', 'taupe']"
            ]
          },
          "metadata": {},
          "execution_count": 56
        }
      ]
    },
    {
      "cell_type": "code",
      "source": [
        "difference = []\n",
        "\n",
        "#difference = union - set\n",
        "for i in uni_2:\n",
        "  if i not in set1:\n",
        "    del i\n",
        "  else:\n",
        "    difference.append(i)\n",
        "\n",
        "difference"
      ],
      "metadata": {
        "colab": {
          "base_uri": "https://localhost:8080/"
        },
        "id": "awYJtP3F7iOr",
        "outputId": "acc14d31-7e0a-4c52-aec1-ec23ae193fb5"
      },
      "id": "awYJtP3F7iOr",
      "execution_count": 57,
      "outputs": [
        {
          "output_type": "execute_result",
          "data": {
            "text/plain": [
              "['black', 'blue', 'green', 'red', 'white', 'yellow']"
            ]
          },
          "metadata": {},
          "execution_count": 57
        }
      ]
    },
    {
      "cell_type": "code",
      "source": [
        "symm_diff = []\n",
        "\n",
        "#symm diff = union - intersection\n",
        "for i in uni_2:\n",
        "  if i in intersection:\n",
        "    del i\n",
        "  else:\n",
        "    symm_diff.append(i)\n",
        "\n",
        "symm_diff"
      ],
      "metadata": {
        "colab": {
          "base_uri": "https://localhost:8080/"
        },
        "id": "iLV6Ga1H9o9R",
        "outputId": "23a518b5-dac7-4787-9c98-6980a844feea"
      },
      "id": "iLV6Ga1H9o9R",
      "execution_count": 58,
      "outputs": [
        {
          "output_type": "execute_result",
          "data": {
            "text/plain": [
              "['blue', 'green', 'red', 'yellow', 'beige', 'grey', 'taupe']"
            ]
          },
          "metadata": {},
          "execution_count": 58
        }
      ]
    },
    {
      "cell_type": "markdown",
      "id": "a45d4f62",
      "metadata": {
        "id": "a45d4f62"
      },
      "source": [
        "# 7 - Flat list\n",
        "\n",
        "Take a list and flatten it using loops. A list is non-flat if it contains any other lists. To flatten the list, find these other lists, remove them from the original list but add all their elements to it.\n",
        "\n",
        "*Hint: If you are familiar with functions, code this as functions, but you do not have to do that.*"
      ]
    },
    {
      "cell_type": "code",
      "execution_count": 59,
      "id": "246e5862",
      "metadata": {
        "id": "246e5862"
      },
      "outputs": [],
      "source": [
        "my_list1 = [1, 2, [3, 6, 9, 12], [4, 8, 16], [5, 10, 15]]\n",
        "my_list2 = [[1, 11], [2, [4, 6, [8, 10, 12]]], [3, 6, [9, 18]], [[[16]], [5, 10, [[15, 20]]]]]"
      ]
    },
    {
      "cell_type": "code",
      "source": [
        "normal = []\n",
        "\n",
        "for i in my_list1:\n",
        "  if type(i) == int:\n",
        "    normal.append(i)\n",
        "  elif type(i) == list:\n",
        "    for x in i:\n",
        "      normal.append(x)\n",
        "  else:\n",
        "    print(\"\")\n",
        "normal"
      ],
      "metadata": {
        "colab": {
          "base_uri": "https://localhost:8080/"
        },
        "id": "Cmo1q9VVBuLB",
        "outputId": "f33fb8b4-a326-4aa0-fcc3-c5d8dec7a125"
      },
      "id": "Cmo1q9VVBuLB",
      "execution_count": 66,
      "outputs": [
        {
          "output_type": "execute_result",
          "data": {
            "text/plain": [
              "[1, 2, 3, 6, 9, 12, 4, 8, 16, 5, 10, 15]"
            ]
          },
          "metadata": {},
          "execution_count": 66
        }
      ]
    },
    {
      "cell_type": "code",
      "source": [
        "def flatten(my_list2):\n",
        "    res = []\n",
        "    for i in my_list2:\n",
        "        if isinstance(i, list):\n",
        "            res.extend(flatten(i))  # Recursively flatten nested lists\n",
        "        else:\n",
        "            res.append(i)  # Append individual elements\n",
        "    return res\n",
        "\n",
        "print(flatten(my_list2))\n"
      ],
      "metadata": {
        "colab": {
          "base_uri": "https://localhost:8080/"
        },
        "id": "htuCdQU3Hvck",
        "outputId": "ba997609-ace3-4189-b09e-196a0fb85f95"
      },
      "id": "htuCdQU3Hvck",
      "execution_count": 67,
      "outputs": [
        {
          "output_type": "stream",
          "name": "stdout",
          "text": [
            "[1, 11, 2, 4, 6, 8, 10, 12, 3, 6, 9, 18, 16, 5, 10, 15, 20]\n"
          ]
        }
      ]
    }
  ],
  "metadata": {
    "kernelspec": {
      "display_name": "Python 3 (ipykernel)",
      "language": "python",
      "name": "python3"
    },
    "language_info": {
      "codemirror_mode": {
        "name": "ipython",
        "version": 3
      },
      "file_extension": ".py",
      "mimetype": "text/x-python",
      "name": "python",
      "nbconvert_exporter": "python",
      "pygments_lexer": "ipython3",
      "version": "3.11.5"
    },
    "varInspector": {
      "cols": {
        "lenName": 16,
        "lenType": 16,
        "lenVar": 40
      },
      "kernels_config": {
        "python": {
          "delete_cmd_postfix": "",
          "delete_cmd_prefix": "del ",
          "library": "var_list.py",
          "varRefreshCmd": "print(var_dic_list())"
        },
        "r": {
          "delete_cmd_postfix": ") ",
          "delete_cmd_prefix": "rm(",
          "library": "var_list.r",
          "varRefreshCmd": "cat(var_dic_list()) "
        }
      },
      "types_to_exclude": [
        "module",
        "function",
        "builtin_function_or_method",
        "instance",
        "_Feature"
      ],
      "window_display": false
    },
    "colab": {
      "provenance": []
    }
  },
  "nbformat": 4,
  "nbformat_minor": 5
}