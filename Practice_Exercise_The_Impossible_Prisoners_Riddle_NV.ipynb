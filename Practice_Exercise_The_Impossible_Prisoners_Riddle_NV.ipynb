{
  "cells": [
    {
      "cell_type": "code",
      "execution_count": 1,
      "id": "419ad3a8",
      "metadata": {
        "id": "419ad3a8"
      },
      "outputs": [],
      "source": [
        "import random\n",
        "import seaborn as sns\n",
        "import warnings #dont want to deal with warnings\n",
        "warnings.filterwarnings('ignore')"
      ]
    },
    {
      "cell_type": "markdown",
      "id": "c046b3e9",
      "metadata": {
        "id": "c046b3e9"
      },
      "source": [
        "# The Impossible Prisoners-Riddle\n",
        "\n",
        "<img src=\"https://datascience.rhuleconlab.com/lectures/images/prisonersriddle.jpg\">"
      ]
    },
    {
      "cell_type": "markdown",
      "id": "f96d599b",
      "metadata": {
        "id": "f96d599b"
      },
      "source": [
        "Here is a riddle that seems impossible:\n",
        "\n",
        "100 prisoners, numbered from 1 to 100 get the following deal:\n",
        "- In a room are boxes numbered from 1 to 100.\n",
        "- A guard takes 100 slips of paper containing the numbers from 1 to 100 and randomly put one slip in each box.\n",
        "- The prisoners can enter the room one by one and open 50 boxes. Then they leave the room on the other side, so they cannot communicate with the prisoners who have yet to enter the room.\n",
        "- The prisoners must leave the room exactly as they found it.\n",
        "- If **all 100 prisoners** find the slip with their own number, all 100 prisoners go free. If one or more prisoners fail to find the slip with the own number, all 100 prisoners are executed.\n",
        "- The prisoners are allowed to agree on a strategy before the first prisoner enters the room.\n",
        "\n",
        "If each prisoner opens 50 boxes randomly, they have a 1-in-2 or 50% chance of finding the slip with their own number. This means that the probability that all 100 prisoners find their own number is $0.5^{100} = 0.00000000000000000000000000000079$%.\n",
        "\n",
        "However, by agreeing to a strategy beforehand, the prisoners can push their probability of success to over 30%.\n",
        "\n",
        "If you want to know more about the riddle and its solution, watch [this](https://www.youtube.com/watch?v=iSNsgj1OCLA)."
      ]
    },
    {
      "cell_type": "code",
      "source": [
        "# The code should output either loss or victory\n",
        "\n",
        "# Conditions for a Victory:\n",
        "## Everyone finds their number in less than 50 boxes_opened\n",
        "## Method giving best odds, is loop strategy, where prisoner opens a box and follows the number in order\n",
        "## Chance to win = 1 - chance to lose\n",
        "## 1 - (1/50 + 1/51 + 1/52 ... + 1/100) = 1/3\n",
        "\n",
        "# Conditions for a Loss:\n",
        "## If ANY prisoner gets a loop which is longer than 50\n",
        "## Chance of loss:\n",
        "## 1/50 + 1/51 + 1/52 ... + 1/100 = 2/3"
      ],
      "metadata": {
        "id": "XeVM1LpDZITm"
      },
      "id": "XeVM1LpDZITm",
      "execution_count": 30,
      "outputs": []
    },
    {
      "cell_type": "code",
      "source": [
        "# First feature that the program should have is randomly generating loops\n",
        "# If a loop happens to be longer than 50, loss is guaranteed\n",
        "# Each prisonner has a unique set of loops\n",
        "# There will be 100 individual loops"
      ],
      "metadata": {
        "id": "nrxyHe9Dq8mx"
      },
      "id": "nrxyHe9Dq8mx",
      "execution_count": 29,
      "outputs": []
    },
    {
      "cell_type": "code",
      "source": [
        "# This function returns the volume of 'winners' per group of prisoners, loop strategy\n",
        "def individual_game(prisoner_count):\n",
        "\n",
        "  big_loop = random.sample(range(1, prisoner_count + 1), prisoner_count) #this will be the loop (string of boxes to be opened)\n",
        "\n",
        "  prisonners_loops = {}\n",
        "  for i in range(1, prisoner_count + 1):\n",
        "      prisonners_loops[i] = big_loop[i - 1]  #random unique value to each box\n",
        "\n",
        "  prisoners = list(range(1, prisoner_count + 1))\n",
        "  max_steps = prisoner_count // 2\n",
        "  loop_lengths = []  #store the total cycle length of each prisoner\n",
        "  survival_chances = []\n",
        "\n",
        "  list_losers = []\n",
        "  list_winners = []\n",
        "\n",
        "  for i in prisoners:\n",
        "      next_box = i\n",
        "      fail_loop = []\n",
        "\n",
        "      while next_box not in fail_loop:\n",
        "          fail_loop.append(next_box)\n",
        "          next_box = prisonners_loops[next_box]\n",
        "\n",
        "      loop_length = len(fail_loop)  #the total length of the cycle\n",
        "      loop_lengths.append(loop_length)\n",
        "\n",
        "      #probability of survival = 1 / loop length\n",
        "      survival_chances.append(1 / loop_length)\n",
        "\n",
        "      if loop_length > max_steps:\n",
        "          #print(f\"Prisoner {i} failed. Cycle length: {loop_length}. Path: {fail_loop}\")\n",
        "          list_losers.append(i)\n",
        "      else:\n",
        "          #print(f\"Prisoner {i} survived. Cycle length: {loop_length}. Path: {fail_loop}\")\n",
        "          list_winners.append(i)\n",
        "\n",
        "  return len(list_winners)\n"
      ],
      "metadata": {
        "id": "UKnab6J1dn5V"
      },
      "id": "UKnab6J1dn5V",
      "execution_count": 26,
      "outputs": []
    },
    {
      "cell_type": "code",
      "source": [
        "def loop_histogram(repetitions, prisoner_count): #visualising the loop strategy\n",
        "  survivor_counter = []\n",
        "  for i in range(repetitions):\n",
        "    survivor_counter.append(individual_game(prisoner_count))\n",
        "\n",
        "  return sns.histplot(survivor_counter, bins = range(1, prisoner_count + 1))"
      ],
      "metadata": {
        "id": "SerSYlb4Htsu"
      },
      "id": "SerSYlb4Htsu",
      "execution_count": 27,
      "outputs": []
    },
    {
      "cell_type": "code",
      "source": [
        "loop_histogram(1000, 100)"
      ],
      "metadata": {
        "colab": {
          "base_uri": "https://localhost:8080/",
          "height": 447
        },
        "id": "BwPfeYhbO-vW",
        "outputId": "1990e75c-831d-401c-df4a-b78857b2b06d"
      },
      "id": "BwPfeYhbO-vW",
      "execution_count": 28,
      "outputs": [
        {
          "output_type": "execute_result",
          "data": {
            "text/plain": [
              "<Axes: ylabel='Count'>"
            ]
          },
          "metadata": {},
          "execution_count": 28
        },
        {
          "output_type": "display_data",
          "data": {
            "text/plain": [
              "<Figure size 640x480 with 1 Axes>"
            ],
            "image/png": "[encoded data removed]"
          },
          "metadata": {}
        }
      ]
    },
    {
      "cell_type": "code",
      "source": [
        "# This function returns the volume of 'winners' per group of prisoners, random strategy\n",
        "def individual_game_random(prisoner_count):\n",
        "  list_winners = []\n",
        "\n",
        "  if prisoner_count:\n",
        "    max_steps = prisoner_count//2 #the total boxes that can be opened will be half of total prisoners\n",
        "\n",
        "    for i in range(1,prisoner_count+1):\n",
        "      choices = random.sample(range(1, prisoner_count + 1), max_steps) #if all prisoners chose a random value\n",
        "      if i in choices:\n",
        "        list_winners.append(i)\n",
        "\n",
        "    return len(list_winners)\n"
      ],
      "metadata": {
        "id": "C5Cj9qusJyTE"
      },
      "id": "C5Cj9qusJyTE",
      "execution_count": 12,
      "outputs": []
    },
    {
      "cell_type": "code",
      "source": [
        "def random_histogram(repetitions, prisoner_count): #visualising the no strategy\n",
        "  survivor_counter = []\n",
        "  for i in range(repetitions):\n",
        "    survivor_counter.append(individual_game_random(prisoner_count))\n",
        "\n",
        "  return sns.histplot(survivor_counter, bins = range(1, prisoner_count + 1))"
      ],
      "metadata": {
        "id": "uQvAdPeRPcoo"
      },
      "id": "uQvAdPeRPcoo",
      "execution_count": 13,
      "outputs": []
    },
    {
      "cell_type": "code",
      "source": [
        "random_histogram(1000, 100)"
      ],
      "metadata": {
        "colab": {
          "base_uri": "https://localhost:8080/",
          "height": 447
        },
        "id": "iZJFkNa5Pjgy",
        "outputId": "d34ae518-623f-47aa-e5c9-e202407400b7"
      },
      "id": "iZJFkNa5Pjgy",
      "execution_count": 14,
      "outputs": [
        {
          "output_type": "execute_result",
          "data": {
            "text/plain": [
              "<Axes: ylabel='Count'>"
            ]
          },
          "metadata": {},
          "execution_count": 14
        },
        {
          "output_type": "display_data",
          "data": {
            "text/plain": [
              "<Figure size 640x480 with 1 Axes>"
            ],
            "image/png": "[encoded data removed]"
          },
          "metadata": {}
        }
      ]
    },
    {
      "cell_type": "code",
      "source": [
        "#calculating the % of survival if using loop strategy\n",
        "def game(prisoner_count, all=False):\n",
        "  win = 0 #counter that builds up for every prisoner\n",
        "  fail_loop = []\n",
        "\n",
        "  if prisoner_count:\n",
        "    big_loop = random.sample(range(1, prisoner_count + 1), prisoner_count) #this will be the loop (string of boxes to be opened)\n",
        "    prisonners_loops = {}\n",
        "\n",
        "    for i in range(1, prisoner_count + 1):\n",
        "        prisonners_loops[i] = big_loop[i-1] # Assigning a random unique value to 100 boxes per prisoner\n",
        "\n",
        "    prisoners = list(range(1, prisoner_count + 1)) #range of prisoners\n",
        "    everyone_survived = True #toggle to check if anyone fails\n",
        "    max_steps = prisoner_count//2 #the total boxes that can be opened will be half of total prisoners\n",
        "\n",
        "\n",
        "    for i in prisoners:\n",
        "      counter_fails = 0 #this counter needs to reset for every prisoner, otherwise it gives invalid for everyone past the 1st guy\n",
        "      next_box = i\n",
        "\n",
        "      while counter_fails < max_steps:\n",
        "        value_in_box = prisonners_loops[next_box] #this part causes the value of an index, to become the next index to be visited\n",
        "        counter_fails += 1\n",
        "        fail_loop.append(next_box)\n",
        "\n",
        "    # Condition for winning\n",
        "        if value_in_box == i:\n",
        "          win += 1 #increase counter for win, later use it to determine if 'everyone' found their box\n",
        "          break #stop adding to the loop lenght once they find their unique number\n",
        "        else:\n",
        "          next_box = value_in_box\n",
        "    # Condition for losing\n",
        "      else:\n",
        "        everyone_survived = False\n",
        "        if all:\n",
        "          if win > 0:\n",
        "            print(\"This is how many people found their boxes before failure:\", win)\n",
        "          print(\"This is how many people didn't find their boxes\", prisoner_count - win)\n",
        "        break #if one prisoner fails, stop\n",
        "\n",
        "# The conditions for the 'final' output\n",
        "    if win == prisoner_count:\n",
        "      return 1\n",
        "    else:\n",
        "      return 0"
      ],
      "metadata": {
        "id": "rAY5GJRmeHG5"
      },
      "id": "rAY5GJRmeHG5",
      "execution_count": 15,
      "outputs": []
    },
    {
      "cell_type": "code",
      "source": [
        "def loop_probability(repetitions, prisoner_count): #should output 0.31, more repetitions/prisonners = more accurate\n",
        "  survivor_counter = 0\n",
        "  for i in range(repetitions):\n",
        "    survivor_counter += game(prisoner_count)\n",
        "\n",
        "  print(survivor_counter/repetitions)\n",
        "\n"
      ],
      "metadata": {
        "id": "rCljwQW1c3Wh"
      },
      "id": "rCljwQW1c3Wh",
      "execution_count": 16,
      "outputs": []
    },
    {
      "cell_type": "code",
      "source": [
        "loop_probability(1000, 100)"
      ],
      "metadata": {
        "colab": {
          "base_uri": "https://localhost:8080/"
        },
        "id": "nH_xGaJeQjsQ",
        "outputId": "b9a78a56-6b4f-4091-ed87-3ecced21913d"
      },
      "id": "nH_xGaJeQjsQ",
      "execution_count": 21,
      "outputs": [
        {
          "output_type": "stream",
          "name": "stdout",
          "text": [
            "0.322\n"
          ]
        }
      ]
    },
    {
      "cell_type": "code",
      "source": [
        "def game_random(prisoner_count, all=False): #calculating probability to survive if using random strategy\n",
        "  win = 0 #counter that builds up for every prisoner\n",
        "  fail_loop = []\n",
        "\n",
        "  if prisoner_count:\n",
        "    max_steps = prisoner_count//2 #the total boxes that can be opened will be half of total prisoners\n",
        "\n",
        "    for i in range(1,prisoner_count+1):\n",
        "      choices = random.sample(range(1, prisoner_count + 1), max_steps) #if all prisoners chose a random value\n",
        "      if i in choices:\n",
        "        win += 1\n",
        "\n",
        "    if win == prisoner_count:\n",
        "      return 1\n",
        "    else:\n",
        "      return 0\n"
      ],
      "metadata": {
        "id": "X56CUAzGfjPv"
      },
      "id": "X56CUAzGfjPv",
      "execution_count": 23,
      "outputs": []
    },
    {
      "cell_type": "code",
      "source": [
        "def random_probability(repetitions, prisoner_count): #if it outputs anything more than 0, you should buy a lottery ticket\n",
        "  survivor_counter = 0\n",
        "  for i in range(repetitions):\n",
        "      survivor_counter += game_random(prisoner_count)\n",
        "\n",
        "  print(survivor_counter / repetitions)\n"
      ],
      "metadata": {
        "id": "4UPLAE8liaPQ"
      },
      "id": "4UPLAE8liaPQ",
      "execution_count": 24,
      "outputs": []
    },
    {
      "cell_type": "code",
      "source": [
        "random_probability(1000, 100)"
      ],
      "metadata": {
        "colab": {
          "base_uri": "https://localhost:8080/"
        },
        "id": "Zc01j4cdQ0YP",
        "outputId": "6ef20c15-5b7f-44d2-e539-dd269ffa7478"
      },
      "id": "Zc01j4cdQ0YP",
      "execution_count": 25,
      "outputs": [
        {
          "output_type": "stream",
          "name": "stdout",
          "text": [
            "0.0\n"
          ]
        }
      ]
    }
  ],
  "metadata": {
    "kernelspec": {
      "display_name": "Python 3 (ipykernel)",
      "language": "python",
      "name": "python3"
    },
    "language_info": {
      "codemirror_mode": {
        "name": "ipython",
        "version": 3
      },
      "file_extension": ".py",
      "mimetype": "text/x-python",
      "name": "python",
      "nbconvert_exporter": "python",
      "pygments_lexer": "ipython3",
      "version": "3.11.7"
    },
    "varInspector": {
      "cols": {
        "lenName": 16,
        "lenType": 16,
        "lenVar": 40
      },
      "kernels_config": {
        "python": {
          "delete_cmd_postfix": "",
          "delete_cmd_prefix": "del ",
          "library": "var_list.py",
          "varRefreshCmd": "print(var_dic_list())"
        },
        "r": {
          "delete_cmd_postfix": ") ",
          "delete_cmd_prefix": "rm(",
          "library": "var_list.r",
          "varRefreshCmd": "cat(var_dic_list()) "
        }
      },
      "types_to_exclude": [
        "module",
        "function",
        "builtin_function_or_method",
        "instance",
        "_Feature"
      ],
      "window_display": false
    },
    "colab": {
      "provenance": []
    }
  },
  "nbformat": 4,
  "nbformat_minor": 5
}