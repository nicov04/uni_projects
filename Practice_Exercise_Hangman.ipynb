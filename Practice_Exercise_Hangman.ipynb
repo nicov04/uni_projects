{
  "cells": [
    {
      "cell_type": "code",
      "execution_count": 1,
      "id": "acade536",
      "metadata": {
        "id": "acade536"
      },
      "outputs": [],
      "source": [
        "import random\n",
        "from IPython.display import clear_output"
      ]
    },
    {
      "cell_type": "markdown",
      "id": "fcc9a4ad",
      "metadata": {
        "id": "fcc9a4ad"
      },
      "source": [
        "# Hangman\n",
        "\n",
        "<img src=\"https://datascience.rhuleconlab.com/lectures/images/hangman.jpg\">"
      ]
    },
    {
      "cell_type": "markdown",
      "id": "b768f592",
      "metadata": {
        "id": "b768f592"
      },
      "source": [
        "I believe virtually everybody has played a version of **Hangman** in school (at least everyone from a country which uses an alphabet - if a Chinese version of hangman exists, please let me know).\n",
        "\n",
        "For those few that are not familiar with it, Hangman is a word guessing game. The player is shown how many letters the unknown word has. The player guesses a letter. If that letter exists in the word, its positions in the word are revealed. If the word does not contain the letter, a gallows is drawn. With each incorrect guess, another part of the hangman is added. If the hangman is completed before the word is guessed, the player looses."
      ]
    },
    {
      "cell_type": "markdown",
      "id": "c92c7182",
      "metadata": {
        "id": "c92c7182"
      },
      "source": [
        "The exercise is to program a function that can play a game of hangman with the user.\n",
        "\n",
        "You have to options to approach this. You can try to tackle it on your own and only check the general advice below. Or you can take the guided path through all the small tasks which will eventually lead to the complete game. The choice is yours."
      ]
    },
    {
      "cell_type": "markdown",
      "id": "d5153a1e",
      "metadata": {
        "id": "d5153a1e"
      },
      "source": [
        "## General advice"
      ]
    },
    {
      "cell_type": "markdown",
      "id": "4d12929b",
      "metadata": {
        "id": "4d12929b"
      },
      "source": [
        "If you want to program the game on your own, here is some general advice:\n",
        "- Don't try to code it all in one go. Have intermediate steps with limited functionality.\n",
        "- You probably want some kind of loop to keep the game running.\n",
        "- You can write your own list of words or you can use the [The Great Noun List](https://www.desiquintans.com/nounlist).\n",
        "- If you want to show a hangman, you can use ASCII art from [Chris Horton](https://gist.github.com/chrishorton/8510732aa9a80a03c829b09f12e20d9c) (Many thanks!).\n",
        "- Once everything works, make it look nice."
      ]
    },
    {
      "cell_type": "code",
      "source": [
        "#main functions of hangman to cover\n",
        "#when a letter is said, IF letter is present in the 'word', the position of the letter is revealed - and letter is crossed out from the bank of letters\n",
        "#IF the letter is NOT present, the letter is removed from the bank and we remove a 'chance' from the 6 chances we have before the hangman is fully drawn\n",
        "#IF failure counter reaches 7 - game over\n",
        "#IF all letters in 'word' are guessed - win"
      ],
      "metadata": {
        "id": "OIxI0zzoNrV8"
      },
      "id": "OIxI0zzoNrV8",
      "execution_count": 5,
      "outputs": []
    },
    {
      "cell_type": "code",
      "source": [
        "HANGMANPICS = ['''\n",
        "  +---+\n",
        "  |   |\n",
        "      |\n",
        "      |\n",
        "      |\n",
        "      |\n",
        "=========''', '''\n",
        "  +---+\n",
        "  |   |\n",
        "  O   |\n",
        "      |\n",
        "      |\n",
        "      |\n",
        "=========''', '''\n",
        "  +---+\n",
        "  |   |\n",
        "  O   |\n",
        "  |   |\n",
        "      |\n",
        "      |\n",
        "=========''', '''\n",
        "  +---+\n",
        "  |   |\n",
        "  O   |\n",
        " /|   |\n",
        "      |\n",
        "      |\n",
        "=========''', '''\n",
        "  +---+\n",
        "  |   |\n",
        "  O   |\n",
        " /|\\  |\n",
        "      |\n",
        "      |\n",
        "=========''', '''\n",
        "  +---+\n",
        "  |   |\n",
        "  O   |\n",
        " /|\\  |\n",
        " /    |\n",
        "      |\n",
        "=========''', '''\n",
        "  +---+\n",
        "  |   |\n",
        "  O   |\n",
        " /|\\  |\n",
        " / \\  |\n",
        "      |\n",
        "=========''', '''\n",
        " \\O/\n",
        "  |\n",
        " / \\\\\n",
        " ''']"
      ],
      "metadata": {
        "id": "UUDie5KGNhsv"
      },
      "id": "UUDie5KGNhsv",
      "execution_count": 24,
      "outputs": []
    },
    {
      "cell_type": "markdown",
      "source": [
        "- This code works under the assumption that the english-nouns.txt is uploaded in collab's files.\n",
        "- The .txt file was downloaded from, (https://github.com/hugsy/stuff/blob/main/random-word/english-nouns.txt)."
      ],
      "metadata": {
        "id": "sspA9UMDMjbg"
      },
      "id": "sspA9UMDMjbg"
    },
    {
      "cell_type": "code",
      "source": [
        "def hangman():\n",
        "  def check_lists(a, b):\n",
        "\n",
        "    #we use a set to deal with words with duplicate letters\n",
        "    return set(a)==set(b)\n",
        "\n",
        "  with open(\"english-nouns.txt\", \"r\") as word_bank:\n",
        "      data_into_list = word_bank.read().split(\"\\n\")  #automatically closes after this block, don't need to .close\n",
        "\n",
        "  selected_word = random.choice([word for word in data_into_list if word.strip() != \"\"])\n",
        "  selected_split = list(selected_word) #for character-by-character handling\n",
        "\n",
        "\n",
        "  print(\"Here is the word you'll be needed to guess:\")\n",
        "  word_lenght = \" \".join([\"_\" for i in selected_split]) #making output readable\n",
        "  print(word_lenght, \"\\n\")\n",
        "\n",
        "  word_lenght = [\"_\"] * len(selected_split) #track progress\n",
        "\n",
        "\n",
        "\n",
        "  correct_guesses_counter = 0\n",
        "  wrong_guesses_counter = 0\n",
        "  total_guesses_counter = 0\n",
        "  max_wrong_guesses = 6\n",
        "\n",
        "  total_guesses = []\n",
        "  correct_guesses = []\n",
        "  wrong_guesses = []\n",
        "\n",
        "  total_poss_correct = len(selected_split) - 1\n",
        "  total_poss_wrong = len(selected_split) - 1\n",
        "\n",
        "  total_poss_guesses = total_poss_correct + total_poss_wrong\n",
        "\n",
        "  while True: #total_guesses_counter <= total_poss_guesses\n",
        "\n",
        "    guess = input().lower() #keeping it lower case\n",
        "\n",
        "\n",
        "    clear_output()\n",
        "    if guess.isalpha(): #ensures it's a letter, not a symbol or number\n",
        "      if guess in selected_split:\n",
        "        if guess in total_guesses: #I wanted to display a counter of how many attempts are remaining, the loop here acts as a barrier to validating same guess twice and messing up the counter\n",
        "          print(\"You have already used this letter, try a different one\")\n",
        "          print(\"These are the letters you have already used:\",total_guesses)\n",
        "\n",
        "        else: #if the 'guess' is not already been said before and matches, the counter increses and list updates\n",
        "          total_guesses_counter += 1\n",
        "          correct_guesses_counter += 1\n",
        "          correct_guesses.append(guess)\n",
        "          total_guesses.append(guess)\n",
        "\n",
        "          if check_lists(correct_guesses, selected_split): #after the list updates, we check if it matches the real word\n",
        "            print(\"good job, you saved a life\")\n",
        "            print(HANGMANPICS[7])\n",
        "\n",
        "            break\n",
        "\n",
        "          print(\"Spot on\") #if it doesn't match, the loop keeps going\n",
        "          print(\"These are the letters you have used:\",total_guesses)\n",
        "          print(\"You have\", max_wrong_guesses - wrong_guesses_counter, \"chances left\")\n",
        "          print(HANGMANPICS[wrong_guesses_counter])\n",
        "\n",
        "\n",
        "\n",
        "        #if 'guessed' letter matches one from 'selected_split' list, guess replaces itself with corresponding value in splitted word\n",
        "        for i in range(len(selected_split)):\n",
        "          if selected_split[i] == guess:\n",
        "            word_lenght[i] = guess\n",
        "\n",
        "        print(\"\\nEnter your next letter\") # This part is what updates the _ _ _ into _ k _\n",
        "        print(\" \".join(word_lenght))\n",
        "\n",
        "\n",
        "      else:\n",
        "        if guess in total_guesses:\n",
        "          print(\"You have already used this letter, try a different one\")    #we also want to keep a counter of how many wrong guesses we did\n",
        "          print(\"These are the letters you have used:\",total_guesses)\n",
        "        else:\n",
        "          wrong_guesses.append(guess)\n",
        "          wrong_guesses_counter += 1\n",
        "          total_guesses.append(guess)\n",
        "\n",
        "          if wrong_guesses_counter == max_wrong_guesses:\n",
        "            print(\"you killed him..\")\n",
        "            print(\"\\nyour word was:\", selected_word)\n",
        "            print(HANGMANPICS[wrong_guesses_counter])\n",
        "            break\n",
        "\n",
        "          print(\"\\nHangman is step closer to death, and it's all your fault\")\n",
        "          print(\"These are the letters you have already used:\",total_guesses)\n",
        "          print(\"You have\", max_wrong_guesses - wrong_guesses_counter, \"chances left\")\n",
        "\n",
        "\n",
        "        print(\"\\nEnter your next letter\") # This part is what updates the _ _ _ into _ k _\n",
        "        print(\" \".join(word_lenght))\n",
        "        print(HANGMANPICS[wrong_guesses_counter])\n",
        "\n",
        "    else:\n",
        "      print(\"Please enter a valid letter\")\n",
        "\n"
      ],
      "metadata": {
        "id": "JmHxOR_KLDBz"
      },
      "id": "JmHxOR_KLDBz",
      "execution_count": 59,
      "outputs": []
    },
    {
      "cell_type": "code",
      "source": [
        "hangman()"
      ],
      "metadata": {
        "colab": {
          "base_uri": "https://localhost:8080/"
        },
        "id": "fT3TKetVIcbW",
        "outputId": "f7238a95-ca84-4155-a2d3-989a237efa69"
      },
      "id": "fT3TKetVIcbW",
      "execution_count": 57,
      "outputs": [
        {
          "output_type": "stream",
          "name": "stdout",
          "text": [
            "good job, you saved a life\n",
            "\n",
            " \\O/   \n",
            "  |  \n",
            " / \\\n",
            " \n"
          ]
        }
      ]
    },
    {
      "cell_type": "markdown",
      "source": [
        "Main things covered/practiced from doing this project:\n",
        "- Code structure and planning. Broke the code into logical sections (word selection, input handling, updating UI).\n",
        "- Validations and user-friendly prompts. Preventing duplicate guesses, handling non-alphabet inputs, giving feedback on progress.\n",
        "- Counters for attempts and game flow. Keeping track of correct/wrong guesses separately. Implementing max wrong guesses before game over.\n",
        "- clear_output() to make ui cleaner and Hangman ASCII art for immersion\n",
        "- Guilt tripping the user for losing and hanging the man, also for immersion."
      ],
      "metadata": {
        "id": "gH3NZKmBNnxK"
      },
      "id": "gH3NZKmBNnxK"
    },
    {
      "cell_type": "markdown",
      "source": [
        "Biggest challenges encountered:\n",
        "- Suprisingly, figuring out that I need to upload .txt files to collab directly, unlike xls and csv which can be directly called if downloaded or with API.\n",
        "- Turning a randomly selected word into a _ _ _ _ format and updating said format whenever a guess is right (to something like t _ k _)\n",
        "- Starting the main loop that keeps the game going\n",
        "- Figuring out how to ensure a fully guessed word is ACTUALLY the word given and making that the winning condition\n",
        "- Handling words with duplicate letters\n",
        "- Stopping user from inserting same letter and displaying said used letters\n",
        "- Overall, making my code look in a way where I can change things without spending too much time thinking about which loop or if statment I'm changing without breaking everything, as the code grew, with every restriction, it became increasingly difficult to tweak it."
      ],
      "metadata": {
        "id": "o2Vax2fKPnw9"
      },
      "id": "o2Vax2fKPnw9"
    }
  ],
  "metadata": {
    "kernelspec": {
      "display_name": "Python 3 (ipykernel)",
      "language": "python",
      "name": "python3"
    },
    "language_info": {
      "codemirror_mode": {
        "name": "ipython",
        "version": 3
      },
      "file_extension": ".py",
      "mimetype": "text/x-python",
      "name": "python",
      "nbconvert_exporter": "python",
      "pygments_lexer": "ipython3",
      "version": "3.11.7"
    },
    "varInspector": {
      "cols": {
        "lenName": 16,
        "lenType": 16,
        "lenVar": 40
      },
      "kernels_config": {
        "python": {
          "delete_cmd_postfix": "",
          "delete_cmd_prefix": "del ",
          "library": "var_list.py",
          "varRefreshCmd": "print(var_dic_list())"
        },
        "r": {
          "delete_cmd_postfix": ") ",
          "delete_cmd_prefix": "rm(",
          "library": "var_list.r",
          "varRefreshCmd": "cat(var_dic_list()) "
        }
      },
      "types_to_exclude": [
        "module",
        "function",
        "builtin_function_or_method",
        "instance",
        "_Feature"
      ],
      "window_display": false
    },
    "colab": {
      "provenance": []
    }
  },
  "nbformat": 4,
  "nbformat_minor": 5
}