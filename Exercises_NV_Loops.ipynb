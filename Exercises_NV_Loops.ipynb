{
  "cells": [
    {
      "cell_type": "markdown",
      "id": "bb545cf7",
      "metadata": {
        "id": "bb545cf7"
      },
      "source": [
        "# Loop excercises - Solution"
      ]
    },
    {
      "cell_type": "markdown",
      "id": "a187c10f",
      "metadata": {
        "id": "a187c10f"
      },
      "source": [
        "## 0 - Collatz conjecture\n",
        "\n",
        "The German mathematician Lothar Collatz came up with a fascinating (and still unproven) hypothesis. It goes like this:\n",
        "\n",
        "If you start with any positive integer and then\n",
        "- divide it by 2 if it is even\n",
        "- multiply it by 3 and add 1 if it is odd\n",
        "\n",
        "and continue to do so with the new value, you will always arrive at 1.\n",
        "\n",
        "Write code that asks the user to input a positive integer and then performs the calculations above until the value is 1. Also, count the steps needed to reach 1 and print out the value at each step (make sure the output is an integer).\n",
        "\n",
        "*(There is also a larger exercise around the Collatz conjecture on Moodle. Make sure to check it out once you are familiar with functions)*"
      ]
    },
    {
      "cell_type": "code",
      "execution_count": null,
      "id": "c17fa915",
      "metadata": {
        "colab": {
          "base_uri": "https://localhost:8080/"
        },
        "id": "c17fa915",
        "outputId": "3352e596-9e01-497b-aa5f-2a557334f3f2"
      },
      "outputs": [
        {
          "output_type": "stream",
          "name": "stdout",
          "text": [
            "10\n",
            "10\n",
            "5\n",
            "16\n",
            "8\n",
            "4\n",
            "2\n",
            "1\n"
          ]
        }
      ],
      "source": [
        "number = int(input())\n",
        "\n",
        "while number != 1 and number != -1:\n",
        "  print(number)\n",
        "  if number % 2 != 0:\n",
        "    number = number * 3 + 1\n",
        "  else:\n",
        "    number = number // 2\n",
        "\n",
        "print(number)"
      ]
    },
    {
      "cell_type": "markdown",
      "id": "cb0ba6a1",
      "metadata": {
        "id": "cb0ba6a1"
      },
      "source": [
        "## 1 - Perfect numbers\n",
        "\n",
        "A perfect number is a number which is equal to the sum of its factors (excluding itself, of course). For example, 6 is a perfect number because its factors are 1, 2 and 3, which add up to 1 + 2 + 3 = 6.\n",
        "\n",
        "Find all perfect numbers up to 10,000."
      ]
    },
    {
      "cell_type": "code",
      "execution_count": null,
      "id": "c9606326",
      "metadata": {
        "id": "c9606326"
      },
      "outputs": [],
      "source": [
        "def is_perfect_number(number):\n",
        "    clean_divisor = []\n",
        "    for i in range(1, number):\n",
        "      if number % i == 0:\n",
        "        clean_divisor.append(i)\n",
        "\n",
        "    return sum(clean_divisor) == number"
      ]
    },
    {
      "cell_type": "code",
      "source": [
        "perfect_numbers = []\n",
        "for i in range(1, 10000):\n",
        "  if is_perfect_number(i) == True:\n",
        "    perfect_numbers.append(i)\n",
        "\n",
        "\n"
      ],
      "metadata": {
        "colab": {
          "base_uri": "https://localhost:8080/"
        },
        "id": "v6469U8D9Ik1",
        "outputId": "52643f16-f630-40bc-8e53-74f257bb6b6d"
      },
      "id": "v6469U8D9Ik1",
      "execution_count": null,
      "outputs": [
        {
          "output_type": "execute_result",
          "data": {
            "text/plain": [
              "[6, 28, 496, 8128]"
            ]
          },
          "metadata": {},
          "execution_count": 114
        }
      ]
    },
    {
      "cell_type": "markdown",
      "id": "f724eb84",
      "metadata": {
        "id": "f724eb84"
      },
      "source": [
        "You can learn more about perfect numbers [here](https://www.youtube.com/watch?v=Zrv1EDIqHkY)."
      ]
    },
    {
      "cell_type": "markdown",
      "id": "54c36b98",
      "metadata": {
        "id": "54c36b98"
      },
      "source": [
        "## 2 - Triangular numbers"
      ]
    },
    {
      "cell_type": "markdown",
      "id": "13e1ce25",
      "metadata": {
        "id": "13e1ce25"
      },
      "source": [
        "Triangular numbers are numbers that are the sum of 1+2+3+4...+n, i.e. 1, 3, 6, 10, ...\n",
        "\n",
        "They are called triangular numbers because they make up triangles:\n",
        "\n",
        "```\n",
        "            *\n",
        "       *   **\n",
        "   *  **  ***\n",
        "* ** *** **** ...\n",
        "```"
      ]
    },
    {
      "cell_type": "code",
      "source": [
        "\"\"\"\n",
        "tri 1 = 1\n",
        "tri 2 = 1 + 2\n",
        "tri 3 = 1 + 2 + 3\n",
        "tri 4 = 1 + 2 + 3 + 4\n",
        "\n",
        "for number in range(1, 100):\n",
        "  if number == number * (number + 1) / 2:\n",
        "    print(number)\n",
        "\n",
        "\n",
        "n = 1\n",
        "while True:\n",
        "    tri_num = n * (n + 1) // 2\n",
        "    if tri_num > 100:\n",
        "        break\n",
        "    print(tri_num)\n",
        "    n += 1\n",
        "\"\"\"\n",
        "\n",
        "tri_num = 1\n",
        "n = 1\n",
        "while (tri_num < 100):\n",
        "  tri_num = n * (n + 1) // 2\n",
        "  print(tri_num)\n",
        "  n += 1"
      ],
      "metadata": {
        "colab": {
          "base_uri": "https://localhost:8080/"
        },
        "id": "KimFAVFo-hLd",
        "outputId": "a7c5a4ff-7c75-4575-af3c-bd0e3a48d85a"
      },
      "id": "KimFAVFo-hLd",
      "execution_count": null,
      "outputs": [
        {
          "output_type": "stream",
          "name": "stdout",
          "text": [
            "1\n",
            "3\n",
            "6\n",
            "10\n",
            "15\n",
            "21\n",
            "28\n",
            "36\n",
            "45\n",
            "55\n",
            "66\n",
            "78\n",
            "91\n",
            "105\n"
          ]
        }
      ]
    },
    {
      "cell_type": "markdown",
      "id": "6e7be468",
      "metadata": {
        "id": "6e7be468"
      },
      "source": [
        "Find all triangular numbers up to 10000."
      ]
    },
    {
      "cell_type": "code",
      "source": [
        "triangular_numbers = [] #for the next question\n",
        "tri_num = 1\n",
        "counter = 2\n",
        "while (tri_num < 100):\n",
        "  print(tri_num)\n",
        "  triangular_numbers.append(tri_num)\n",
        "  tri_num += counter\n",
        "  counter += 1\n"
      ],
      "metadata": {
        "colab": {
          "base_uri": "https://localhost:8080/"
        },
        "id": "5H_TSxwcFuN5",
        "outputId": "c6ed97ce-0512-4f82-a5eb-9f0722615811"
      },
      "id": "5H_TSxwcFuN5",
      "execution_count": null,
      "outputs": [
        {
          "output_type": "stream",
          "name": "stdout",
          "text": [
            "1\n",
            "3\n",
            "6\n",
            "10\n",
            "15\n",
            "21\n",
            "28\n",
            "36\n",
            "45\n",
            "55\n",
            "66\n",
            "78\n",
            "91\n"
          ]
        }
      ]
    },
    {
      "cell_type": "markdown",
      "id": "62a3c59d",
      "metadata": {
        "id": "62a3c59d"
      },
      "source": [
        "## 3 - Are perfect numbers triangular?\n",
        "\n",
        "Quickly check with a loop whether the perfect numbers from 1 are triangular numbers (from 2)."
      ]
    },
    {
      "cell_type": "code",
      "execution_count": null,
      "id": "7a6a1429",
      "metadata": {
        "colab": {
          "base_uri": "https://localhost:8080/"
        },
        "id": "7a6a1429",
        "outputId": "869705ec-681d-4a33-c99e-422fc8920003"
      },
      "outputs": [
        {
          "output_type": "stream",
          "name": "stdout",
          "text": [
            "6\n",
            "28\n",
            "496\n"
          ]
        }
      ],
      "source": [
        "for i in range(len(perfect_numbers)):\n",
        "  if perfect_numbers[1] in triangular_numbers:\n",
        "    print(perfect_numbers[i])\n"
      ]
    },
    {
      "cell_type": "markdown",
      "id": "1d08c190",
      "metadata": {
        "id": "1d08c190"
      },
      "source": [
        "## 4 - Beautiful math\n",
        "\n",
        "Write two loops that print out the product of 12345679 and multiples of 9 up to 81 and then the product of 987654321 and again multiples of 9 up to 81."
      ]
    },
    {
      "cell_type": "code",
      "execution_count": null,
      "id": "07be5532",
      "metadata": {
        "colab": {
          "base_uri": "https://localhost:8080/"
        },
        "id": "07be5532",
        "outputId": "c329f2c1-ce16-4573-e192-fa0fee7e761f"
      },
      "outputs": [
        {
          "output_type": "stream",
          "name": "stdout",
          "text": [
            "111111111\n",
            "222222222\n",
            "333333333\n",
            "444444444\n",
            "555555555\n",
            "666666666\n",
            "777777777\n",
            "888888888\n"
          ]
        }
      ],
      "source": [
        "for i in range(9, 81):\n",
        "  if i % 9 == 0:\n",
        "    result = i * 12345679\n",
        "    print(result)"
      ]
    },
    {
      "cell_type": "code",
      "execution_count": null,
      "id": "be960c1e",
      "metadata": {
        "scrolled": true,
        "colab": {
          "base_uri": "https://localhost:8080/"
        },
        "id": "be960c1e",
        "outputId": "62987aaf-93cf-4317-bd88-8958b8cbb093"
      },
      "outputs": [
        {
          "output_type": "stream",
          "name": "stdout",
          "text": [
            "8888888889\n",
            "17777777778\n",
            "26666666667\n",
            "35555555556\n",
            "44444444445\n",
            "53333333334\n",
            "62222222223\n",
            "71111111112\n"
          ]
        }
      ],
      "source": [
        "for i in range(9, 81):\n",
        "  if i % 9 == 0:\n",
        "    result = i * 987654321\n",
        "    print(result)"
      ]
    },
    {
      "cell_type": "markdown",
      "id": "c9e59bfa",
      "metadata": {
        "id": "c9e59bfa"
      },
      "source": [
        "## 5 - Beautiful math II\n",
        "\n",
        "Write a loop that calculates (and prints out) 0 X 9 + 1, 1 X 9 + 2, 12 X 9 + 3 up to 123456789 + 9."
      ]
    },
    {
      "cell_type": "code",
      "execution_count": null,
      "id": "0578657c",
      "metadata": {
        "colab": {
          "base_uri": "https://localhost:8080/"
        },
        "id": "0578657c",
        "outputId": "c4e339e7-d15a-4c2d-804d-2a79927bfb2b"
      },
      "outputs": [
        {
          "output_type": "stream",
          "name": "stdout",
          "text": [
            "9\n",
            "18\n",
            "27\n",
            "36\n",
            "45\n",
            "54\n",
            "63\n",
            "72\n",
            "81\n"
          ]
        }
      ],
      "source": [
        "big_value = [1,2,3,4,5,6,7,8,9]\n",
        "for i in big_value:\n",
        "  result23 = i * 9\n",
        "  print(result23)"
      ]
    },
    {
      "cell_type": "code",
      "source": [
        "big_value = [\"0\", \"1\", \"2\", \"3\", \"4\", \"5\", \"6\", \"7\", \"8\" ,\"9\"]\n",
        "\n",
        "first = big_value[0]\n",
        "second = first + big_value[1]\n",
        "third = second + big_value[2]\n",
        "fourth = third + big_value[3]\n",
        "fifth = fourth + big_value[4]\n",
        "sixth = fifth + big_value[5]\n",
        "seventh = sixth + big_value[6]\n",
        "eight = seventh + big_value[7]\n",
        "ninth = eight + big_value[8]\n",
        "tenth = ninth + big_value[9]\n",
        "all_numbs = [first, second, third, fourth, fifth, sixth, seventh, eight, ninth, tenth]\n",
        "\n",
        "big_value2 = [\"1\", \"2\", \"3\", \"4\", \"5\", \"6\", \"7\", \"8\" ,\"9\"]\n",
        "\n",
        "integer_list = [int(i) for i in all_numbs]\n",
        "integer_big_value = [int(i) for i in big_value2]\n",
        "\n",
        "\n",
        "not_added = []\n",
        "for i in integer_list:\n",
        "  result2 = i * 9\n",
        "  not_added.append(result2)\n",
        "\n",
        "[x + y for x, y in zip(not_added, integer_big_value)] #found the zip function on google, very cool\n"
      ],
      "metadata": {
        "colab": {
          "base_uri": "https://localhost:8080/"
        },
        "id": "UbVoKcPhVnYg",
        "outputId": "6438484f-6660-4a76-9d71-c1f0c4ae4dcf"
      },
      "id": "UbVoKcPhVnYg",
      "execution_count": null,
      "outputs": [
        {
          "output_type": "execute_result",
          "data": {
            "text/plain": [
              "[1, 11, 111, 1111, 11111, 111111, 1111111, 11111111, 111111111]"
            ]
          },
          "metadata": {},
          "execution_count": 120
        }
      ]
    },
    {
      "cell_type": "code",
      "source": [
        "big_value = [\"0\", \"1\", \"2\", \"3\", \"4\", \"5\", \"6\", \"7\", \"8\" ,\"9\"]\n",
        "big_value2 = [\"1\", \"2\", \"3\", \"4\", \"5\", \"6\", \"7\", \"8\" ,\"9\"]\n",
        "\n",
        "all_numbs = []\n",
        "cumulative = \"\"\n",
        "for i in big_value:\n",
        "  cumulative += i #didnt realise you can concat this way\n",
        "  all_numbs.append(cumulative)\n",
        "\n",
        "integer_list = [int(i) for i in all_numbs]\n",
        "integer_big_value = [int(i) for i in big_value2]\n",
        "\n",
        "\n",
        "not_added = []\n",
        "for i in integer_list:\n",
        "  result2 = i * 9\n",
        "  not_added.append(result2)\n",
        "\n",
        "[x + y for x, y in zip(not_added, integer_big_value)]\n"
      ],
      "metadata": {
        "colab": {
          "base_uri": "https://localhost:8080/"
        },
        "id": "3u4lzilzXfQb",
        "outputId": "d1020557-1b82-486d-aabd-6ed49253e5b4"
      },
      "id": "3u4lzilzXfQb",
      "execution_count": null,
      "outputs": [
        {
          "output_type": "execute_result",
          "data": {
            "text/plain": [
              "[1, 11, 111, 1111, 11111, 111111, 1111111, 11111111, 111111111]"
            ]
          },
          "metadata": {},
          "execution_count": 126
        }
      ]
    },
    {
      "cell_type": "code",
      "source": [
        "cumulative=\"\"\n",
        "store = []\n",
        "for i in range(10):\n",
        "  cumulative += str(i)\n",
        "  store.append(int(cumulative) * 9 + (1 + i))\n",
        "\n",
        "print(store)"
      ],
      "metadata": {
        "colab": {
          "base_uri": "https://localhost:8080/"
        },
        "id": "ezd1l3Vbon9a",
        "outputId": "c676e9c5-5f3b-4ca1-f900-66f7eaaec836"
      },
      "id": "ezd1l3Vbon9a",
      "execution_count": null,
      "outputs": [
        {
          "output_type": "stream",
          "name": "stdout",
          "text": [
            "[1, 11, 111, 1111, 11111, 111111, 1111111, 11111111, 111111111, 1111111111]\n"
          ]
        }
      ]
    },
    {
      "cell_type": "code",
      "source": [
        "int(\"012\")"
      ],
      "metadata": {
        "colab": {
          "base_uri": "https://localhost:8080/"
        },
        "id": "u_bV01AusURq",
        "outputId": "c7f482a7-e504-4877-9f9b-e98074d7a5dc"
      },
      "id": "u_bV01AusURq",
      "execution_count": null,
      "outputs": [
        {
          "output_type": "execute_result",
          "data": {
            "text/plain": [
              "12"
            ]
          },
          "metadata": {},
          "execution_count": 171
        }
      ]
    },
    {
      "cell_type": "markdown",
      "id": "4b03834f",
      "metadata": {
        "id": "4b03834f"
      },
      "source": [
        "## 6 - Beautiful math III\n",
        "\n",
        "Write a loop that calculates (and prints out) 0 X 9 + 8, 9 X 9 + 7, 98 X 9 + 6 up to 98765432 X 9 + 0."
      ]
    },
    {
      "cell_type": "code",
      "execution_count": null,
      "id": "43e8c29e",
      "metadata": {
        "scrolled": true,
        "id": "43e8c29e",
        "colab": {
          "base_uri": "https://localhost:8080/"
        },
        "outputId": "fb6d94f4-9c55-4097-ed0c-1a8054459b52"
      },
      "outputs": [
        {
          "output_type": "execute_result",
          "data": {
            "text/plain": [
              "[8, 88, 888, 8888, 88888, 888888, 8888888, 88888888]"
            ]
          },
          "metadata": {},
          "execution_count": 129
        }
      ],
      "source": [
        "big_value = [\"1\", \"2\", \"3\", \"4\", \"5\", \"6\", \"7\", \"8\" ,\"9\", \"0\"]\n",
        "big_value2 = [\"1\", \"2\", \"3\", \"4\", \"5\", \"6\", \"7\", \"8\"]\n",
        "\n",
        "new = reversed(big_value)\n",
        "new2 = reversed(big_value2) #the curse of being lazy\n",
        "\n",
        "all_numbs = []\n",
        "cumulative = \"\"\n",
        "for i in new:\n",
        "  cumulative += i\n",
        "  all_numbs.append(cumulative)\n",
        "\n",
        "integer_list = [int(i) for i in all_numbs]\n",
        "integer_big_value = [int(i) for i in new2]\n",
        "\n",
        "\n",
        "not_added = []\n",
        "for i in integer_list:\n",
        "  result2 = i * 9\n",
        "  not_added.append(result2)\n",
        "\n",
        "[x + y for x, y in zip(not_added, integer_big_value)]\n",
        "\n",
        "#what i did here was remove the 0 from big_value and put it at the end to get the set of values we need when reversed\n",
        "#also got rid of 9 from big_value 2 because the set of numbers for the addition part starts from 8"
      ]
    },
    {
      "cell_type": "code",
      "source": [
        "cumulative = \"\"\n",
        "store = []\n",
        "\n",
        "for i in range(9):  # Loop runs 9 times (from 0 to 8)\n",
        "    cumulative += str(9 - i)  # Constructing numbers in reversed order\n",
        "    store.append(int(cumulative) * 9 + (8 - i) - 1)  # Applying the correct operation\n",
        "\n",
        "print(store)\n"
      ],
      "metadata": {
        "colab": {
          "base_uri": "https://localhost:8080/"
        },
        "id": "jawL7JqJTplS",
        "outputId": "298c124a-77bf-4417-976f-5da95b0e39bf"
      },
      "id": "jawL7JqJTplS",
      "execution_count": 14,
      "outputs": [
        {
          "output_type": "stream",
          "name": "stdout",
          "text": [
            "[88, 888, 8888, 88888, 888888, 8888888, 88888888, 888888888, 8888888888]\n"
          ]
        }
      ]
    },
    {
      "cell_type": "markdown",
      "id": "bc9f162a",
      "metadata": {
        "id": "bc9f162a"
      },
      "source": [
        "## 7 - Beautiful math IV\n",
        "\n",
        "Write a loop that prints out the square of 1, 11, 111 and so on until 1111111111 (ten digits)."
      ]
    },
    {
      "cell_type": "code",
      "execution_count": null,
      "id": "f64df567",
      "metadata": {
        "id": "f64df567",
        "colab": {
          "base_uri": "https://localhost:8080/"
        },
        "outputId": "50ecf409-8ef8-49f7-90b6-817c9d8644ad"
      },
      "outputs": [
        {
          "output_type": "stream",
          "name": "stdout",
          "text": [
            "1\n",
            "121\n",
            "12321\n",
            "1234321\n",
            "123454321\n",
            "12345654321\n",
            "1234567654321\n",
            "123456787654321\n",
            "12345678987654321\n",
            "1234567900987654321\n"
          ]
        }
      ],
      "source": [
        "big_one = [\"1\", \"1\", \"1\", \"1\", \"1\", \"1\", \"1\", \"1\" ,\"1\", \"1\"]\n",
        "all_one = []\n",
        "cumulative_one = \"\"\n",
        "for i in big_one:\n",
        "  cumulative_one += i\n",
        "  all_one.append(cumulative_one)\n",
        "\n",
        "integer_one = [int(i) for i in all_one]\n",
        "\n",
        "for i in integer_one:\n",
        "  squared = i ** 2\n",
        "  print(squared)\n",
        "\n"
      ]
    },
    {
      "cell_type": "markdown",
      "id": "4d79be1e",
      "metadata": {
        "id": "4d79be1e"
      },
      "source": [
        "## 8 - Beautiful math V\n",
        "\n",
        "Write a loop that calculates (and prints out) 1 X 8 + 1, 12 X 8 + 2, 123 X 8 + 3 until 123456789 X 8 + 9."
      ]
    },
    {
      "cell_type": "code",
      "execution_count": null,
      "id": "8b6ed774",
      "metadata": {
        "id": "8b6ed774",
        "colab": {
          "base_uri": "https://localhost:8080/"
        },
        "outputId": "b2cf19e2-0cef-4dc7-f9f1-f51754774834"
      },
      "outputs": [
        {
          "output_type": "execute_result",
          "data": {
            "text/plain": [
              "[9, 98, 987, 9876, 98765, 987654, 9876543, 98765432, 987654321]"
            ]
          },
          "metadata": {},
          "execution_count": 149
        }
      ],
      "source": [
        "big_value = [\"1\", \"2\", \"3\", \"4\", \"5\", \"6\", \"7\", \"8\" ,\"9\"]\n",
        "big_value2 = [\"1\", \"2\", \"3\", \"4\", \"5\", \"6\", \"7\", \"8\" ,\"9\"]\n",
        "\n",
        "all_numbs = []\n",
        "cumulative = \"\"\n",
        "for i in big_value:\n",
        "  cumulative += i\n",
        "  all_numbs.append(cumulative)\n",
        "\n",
        "integer_list = [int(i) for i in all_numbs]\n",
        "integer_big_value = [int(i) for i in big_value2]\n",
        "\n",
        "\n",
        "not_added = []\n",
        "for i in integer_list:\n",
        "  result2 = i * 8\n",
        "  not_added.append(result2)\n",
        "\n",
        "[x + y for x, y in zip(not_added, integer_big_value)]\n",
        "\n",
        "#all i did here was remove the '0' from big_value since the addition starts from 1\n",
        "#and result2 = i * 8 and not 9 like in prev exercise\n"
      ]
    },
    {
      "cell_type": "code",
      "source": [
        "cumulative = \"\"\n",
        "store = []\n",
        "\n",
        "for i in range(9):\n",
        "    cumulative += str(i + 1)\n",
        "    store.append(int(cumulative) * 8 + (i + 1))\n",
        "print(store)"
      ],
      "metadata": {
        "colab": {
          "base_uri": "https://localhost:8080/"
        },
        "id": "l_HE64HkU9cG",
        "outputId": "34e57eec-7858-4ef9-8b92-b344789b5817"
      },
      "id": "l_HE64HkU9cG",
      "execution_count": 17,
      "outputs": [
        {
          "output_type": "stream",
          "name": "stdout",
          "text": [
            "[9, 98, 987, 9876, 98765, 987654, 9876543, 98765432, 987654321]\n"
          ]
        }
      ]
    },
    {
      "cell_type": "markdown",
      "id": "e795650a",
      "metadata": {
        "id": "e795650a"
      },
      "source": [
        "## 9 - Number of digits\n",
        "Write a loop that returns the number of digits on an integer."
      ]
    },
    {
      "cell_type": "code",
      "execution_count": null,
      "id": "8e51e611",
      "metadata": {
        "id": "8e51e611",
        "colab": {
          "base_uri": "https://localhost:8080/"
        },
        "outputId": "1e665340-edd5-45fb-af83-71d50dcd4111"
      },
      "outputs": [
        {
          "output_type": "stream",
          "name": "stdout",
          "text": [
            "3\n",
            "1\n"
          ]
        }
      ],
      "source": [
        "num = (220, 0)\n",
        "\n",
        "for i in num:\n",
        "  if i < 0:\n",
        "    turn_positive = (i * -i)/i\n",
        "    positive = int(turn_positive)\n",
        "    print(len(str(positive)))\n",
        "  else:\n",
        "    print(len(str(i)))\n",
        "\n",
        "#issue here is that im returni the digits of the integers, from a list of integers\n",
        "#i think ill need to use a while loop for a single number but hopefully not since i dont like while loops"
      ]
    },
    {
      "cell_type": "code",
      "source": [
        "num = -26755\n",
        "while num < 0:\n",
        "  num = (num * -num)/num\n",
        "  num = int(num)\n",
        "  print(len(str(num)))\n",
        "else:\n",
        "  print(len(str(num)))\n",
        "\n",
        "#ended up doing a while loop, the for loop kind of needs a list to iterate through, can't have a single number\n"
      ],
      "metadata": {
        "colab": {
          "base_uri": "https://localhost:8080/"
        },
        "id": "DO8Yiqqc_xFt",
        "outputId": "7e57b949-9cc1-475a-f83a-dae25ff3a3c5"
      },
      "id": "DO8Yiqqc_xFt",
      "execution_count": null,
      "outputs": [
        {
          "output_type": "stream",
          "name": "stdout",
          "text": [
            "5\n",
            "5\n"
          ]
        }
      ]
    },
    {
      "cell_type": "markdown",
      "id": "897d051d",
      "metadata": {
        "id": "897d051d"
      },
      "source": [
        "## 10 - Reverse number\n",
        "\n",
        "Write a loop that reverses an integer, i.e. turns 123456 into 654321.\n",
        "\n",
        "*Bonus: If you solved this with the use of strings, try to do it without. If you did it without the use of strings, use strings.*"
      ]
    },
    {
      "cell_type": "code",
      "execution_count": null,
      "id": "fb2ad791",
      "metadata": {
        "scrolled": true,
        "id": "fb2ad791",
        "colab": {
          "base_uri": "https://localhost:8080/",
          "height": 35
        },
        "outputId": "53845c69-7984-4154-8d60-b9da095b831e"
      },
      "outputs": [
        {
          "output_type": "execute_result",
          "data": {
            "text/plain": [
              "'654321'"
            ],
            "application/vnd.google.colaboratory.intrinsic+json": {
              "type": "string"
            }
          },
          "metadata": {},
          "execution_count": 60
        }
      ],
      "source": [
        "number = \"123456\"\n",
        "number[::-1]\n"
      ]
    },
    {
      "cell_type": "code",
      "execution_count": null,
      "id": "d6ce05ce",
      "metadata": {
        "id": "d6ce05ce",
        "colab": {
          "base_uri": "https://localhost:8080/"
        },
        "outputId": "d4740aec-6d68-48b3-9501-f679980cb7ed"
      },
      "outputs": [
        {
          "output_type": "stream",
          "name": "stdout",
          "text": [
            "5151\n"
          ]
        }
      ],
      "source": [
        "num = 1515\n",
        "reversed_num = 0\n",
        "\n",
        "while num != 0:\n",
        "    digit = num % 10\n",
        "    reversed_num = reversed_num * 10 + digit\n",
        "    num //= 10\n",
        "\n",
        "print(reversed_num)\n",
        "#the loop takes the last digit of our num through % 10\n",
        "#then reversed num * 10 and + that one last digit we removed\n",
        "#since reversed num starts at 0, the last digit of num turns out to be the first value of reversed num as we want\n",
        "#the num is floor divd, essentially getting rid of the last number\n",
        "\n",
        "#next iteration, our 'num' is 1 digit less and process repeats\n",
        "#since reversed num is no longer 0, the *10 actually does something\n",
        "#it adds a second 0 value to the num and adds the new 'last' number to it and so on"
      ]
    },
    {
      "cell_type": "markdown",
      "id": "a219d99f",
      "metadata": {
        "id": "a219d99f"
      },
      "source": [
        "## 11 - Pattern creation\n",
        "\n",
        "Write a loop that creates the following pattern:\n",
        "\n",
        "`*`<br>\n",
        "`* *`<br>\n",
        "`* * *`<br>\n",
        "`* * * *`<br>\n",
        "`* * * * *`<br>\n",
        "`* * * *`<br>\n",
        "`* * *`<br>\n",
        "`* *`<br>\n",
        "`*`<br>\n",
        "\n",
        "Make the length flexible so that you can change the size of the triangle. Code it in two loops first, then a single loop."
      ]
    },
    {
      "cell_type": "code",
      "execution_count": null,
      "id": "9709b339",
      "metadata": {
        "scrolled": true,
        "id": "9709b339",
        "colab": {
          "base_uri": "https://localhost:8080/"
        },
        "outputId": "37d6052c-c151-4227-acef-29e1099f68de"
      },
      "outputs": [
        {
          "output_type": "stream",
          "name": "stdout",
          "text": [
            "*\n",
            "**\n",
            "***\n",
            "****\n",
            "*****\n",
            "******\n",
            "*******\n",
            "********\n",
            "*********\n",
            "**********\n",
            "*********\n",
            "********\n",
            "*******\n",
            "******\n",
            "*****\n",
            "****\n",
            "***\n",
            "**\n",
            "*\n"
          ]
        }
      ],
      "source": [
        "star = ('*')\n",
        "desired_size = 10\n",
        "for i in range(1, desired_size + 1):\n",
        "  lenght = i * star\n",
        "  print(lenght)\n",
        "\n",
        "lower_desired = desired_size - 1\n",
        "for i in range(lower_desired, 0, -1):\n",
        "  second_lenght = i * star\n",
        "  print(second_lenght)\n"
      ]
    },
    {
      "cell_type": "code",
      "source": [
        "def chain(*iterables):\n",
        "    # chain('ABC', 'DEF') --> A B C D E F\n",
        "    for it in iterables:\n",
        "        for element in it:\n",
        "            yield element\n",
        "\n",
        "upper_range = range(1, desired_size + 1)\n",
        "lower_range = range(lower_desired, 0, -1)\n",
        "\n",
        "\n",
        "concat_ranges = chain(upper_range, lower_range)\n",
        "for i in concat_ranges:\n",
        "  tree = i * star\n",
        "  print(tree)"
      ],
      "metadata": {
        "colab": {
          "base_uri": "https://localhost:8080/"
        },
        "id": "XccZ3oOvaNZB",
        "outputId": "9299ff89-3c00-48ec-bab9-f3c9d648ac5c"
      },
      "id": "XccZ3oOvaNZB",
      "execution_count": null,
      "outputs": [
        {
          "output_type": "stream",
          "name": "stdout",
          "text": [
            "*\n",
            "**\n",
            "***\n",
            "****\n",
            "*****\n",
            "******\n",
            "*******\n",
            "********\n",
            "*********\n",
            "**********\n",
            "*********\n",
            "********\n",
            "*******\n",
            "******\n",
            "*****\n",
            "****\n",
            "***\n",
            "**\n",
            "*\n"
          ]
        }
      ]
    },
    {
      "cell_type": "code",
      "source": [
        "star = ('*')\n",
        "max_rows = 13\n",
        "mid_point = max_rows//2\n",
        "for i in range(1, max_rows + 1):\n",
        "  if i <= mid_point + 1:\n",
        "    lenght = i * star\n",
        "  else:\n",
        "    lenght = lenght[:-1]\n",
        "  print(lenght)\n"
      ],
      "metadata": {
        "colab": {
          "base_uri": "https://localhost:8080/"
        },
        "id": "7En8K7d4w-bm",
        "outputId": "4f2e01c2-d5d3-4e5f-821c-363f465df314"
      },
      "id": "7En8K7d4w-bm",
      "execution_count": null,
      "outputs": [
        {
          "output_type": "stream",
          "name": "stdout",
          "text": [
            "*\n",
            "**\n",
            "***\n",
            "****\n",
            "*****\n",
            "******\n",
            "*******\n",
            "******\n",
            "*****\n",
            "****\n",
            "***\n",
            "**\n",
            "*\n"
          ]
        }
      ]
    },
    {
      "cell_type": "markdown",
      "id": "90f1f7c2",
      "metadata": {
        "id": "90f1f7c2"
      },
      "source": [
        "## 12 - Pattern creation II"
      ]
    },
    {
      "cell_type": "markdown",
      "id": "17ab0595",
      "metadata": {
        "id": "17ab0595"
      },
      "source": [
        "Create a loop that prints 111111111, 222222222, ..., 999999999 without resorting to any strings (!)."
      ]
    },
    {
      "cell_type": "code",
      "source": [
        "no = (1, 2)\n",
        "hello = no[0] + no[1]\n",
        "\n",
        "\n",
        "print(no[1]*10**9 + no[1]*10**8 + no[1]*10**7 + no[1]*10**6 + no[1]*10**5 + no[1]*10**4 + no[1]*10**3 + no[1]*10**2 + no[1]*10**1 + no[1]*10**0)\n",
        "\n",
        "big = []\n",
        "for i in range(8, 0, -1):\n",
        "  number = no[1]*10**9 + no[1]*10**i\n",
        "  print(number)"
      ],
      "metadata": {
        "colab": {
          "base_uri": "https://localhost:8080/"
        },
        "id": "OAlWwWcOjrdV",
        "outputId": "fd0bbfec-7abb-4fa8-fe18-3d1018d5f888"
      },
      "id": "OAlWwWcOjrdV",
      "execution_count": null,
      "outputs": [
        {
          "output_type": "stream",
          "name": "stdout",
          "text": [
            "2222222222\n",
            "2200000000\n",
            "2020000000\n",
            "2002000000\n",
            "2000200000\n",
            "2000020000\n",
            "2000002000\n",
            "2000000200\n",
            "2000000020\n"
          ]
        }
      ]
    },
    {
      "cell_type": "code",
      "source": [
        "length = int(input())\n",
        "repeating_one = (10**length - 1) // 9\n",
        "\n",
        "for i in range(1, 10):\n",
        "    print(repeating_one * i)\n",
        "\n",
        "\n",
        "#flexible code, can change the lenght of the output - without the use of strings"
      ],
      "metadata": {
        "colab": {
          "base_uri": "https://localhost:8080/"
        },
        "id": "anj9k9WnCjzd",
        "outputId": "6ee5f7ac-9bb4-4d73-f241-ccba6886818e"
      },
      "id": "anj9k9WnCjzd",
      "execution_count": 15,
      "outputs": [
        {
          "output_type": "stream",
          "name": "stdout",
          "text": [
            "8\n",
            "11111111\n",
            "22222222\n",
            "33333333\n",
            "44444444\n",
            "55555555\n",
            "66666666\n",
            "77777777\n",
            "88888888\n",
            "99999999\n"
          ]
        }
      ]
    },
    {
      "cell_type": "markdown",
      "id": "0bd61739",
      "metadata": {
        "id": "0bd61739"
      },
      "source": [
        "## 13 - Chart positions"
      ]
    },
    {
      "cell_type": "markdown",
      "id": "8733a883",
      "metadata": {
        "id": "8733a883"
      },
      "source": [
        "Find the highest chart position of singles by \"Orchestral Manoeuvres in the Dark\" using loops.\n",
        "\n",
        "When you are done, find the highest charting song overall and print the artist, title and chart position."
      ]
    },
    {
      "cell_type": "code",
      "execution_count": null,
      "id": "3d06d181",
      "metadata": {
        "id": "3d06d181"
      },
      "outputs": [],
      "source": [
        "hits = {\"Song 1\" : {\"Artist\" : \"Orchestral Manoeuvres in the Dark\", \"Title\" : \"Sailing on the Seven Seas\", \"UK Chart Position\" : 3},\n",
        "        \"Song 2\" : {\"Artist\" : \"Orchestral Manoeuvres in the Dark\", \"Title\" : \"Maid Of Orleans\", \"UK Chart Position\" : 4},\n",
        "        \"Song 3\" : {\"Artist\" : \"Orchestral Manoeuvres in the Dark\", \"Title\" : \"Enola Gay\", \"UK Chart Position\" : 8},\n",
        "        \"Song 4\" : {\"Artist\" : \"Chris Rea\", \"Title\":\"The Road to Hell, Part II\", \"UK Chart Position\" : 10},\n",
        "        \"Song 5\" : {\"Artist\" : \"Chris Rea\", \"Title\" : \"Auberge\", \"UK Chart Position\" : 16},\n",
        "        \"Song 6\" : {\"Artist\" : \"K's Choice\", \"Title\" : \"Not an Addict\", \"UK Chart Position\" : \"-\"},\n",
        "        \"Song 7\" : {\"Artist\" : \"The Airborne Toxic Event\", \"Title\" : \"Sometime around Midnight\", \"UK Chart Position\" : 33},\n",
        "        \"Song 8\" : {\"Artist\" : \"Phosphorescent\", \"Title\" : \"Song for Zula\", \"UK Chart Position\" : \"-\"},\n",
        "        \"Song 9\" : {\"Artist\" : \"The Magnetic Fields\", \"Title\" : \"Book of Love\", \"UK Chart Position\" : \"-\"},\n",
        "        \"Song 10\" : {\"Artist\" : \"Stereophonics\", \"Title\" : \"Just Looking\", \"UK Chart Position\" : 4},\n",
        "        \"Song 11\" : {\"Artist\" : \"Syd Matters\", \"Title\" : \"Obstacles\", \"UK Chart Position\" : \"-\"},\n",
        "        \"Song 12\" : {\"Artist\" : \"U2\", \"Title\" : \"With or Without You\", \"UK Chart Position\" : 4},\n",
        "        \"Song 12\" : {\"Artist\" : \"The Cure\", \"Title\" : \"Just Like Heaven\", \"UK Chart Position\" : 29},\n",
        "        \"Song 13\" : {\"Artist\" : \"Orchestral Manoeuvres in the Dark\", \"Title\" : \"Walking on the Milky Way\", \"UK Chart Position\" : 17},\n",
        "        \"Song 14\" : {\"Artist\" : \"Travis\", \"Title\" : \"Why does it always rain on me?\", \"UK Chart Position\" : 10},\n",
        "        \"Song 15\" : {\"Artist\" : \"Pulp\", \"Title\" : \"Common People\", \"UK Chart Position\" : 2},\n",
        "        \"Song 16\" : {\"Artist\" : \"Heather Nova\", \"Title\" : \"London Rain\", \"UK Chart Position\" : 87},\n",
        "        \"Song 17\" : {\"Artist\" : \"The Turth About\", \"Title\" : \"2 a.m.\", \"UK Chart Position\" : \"-\"},\n",
        "        \"Song 18\" : {\"Artist\" : \"Bryde\", \"Title\" : \"Silence\", \"UK Chart Position\" : \"-\"},\n",
        "        \"Song 19\" : {\"Artist\" : \"Fleetwood Mac\", \"Title\" : \"Go Your Own Way\", \"UK Chart Position\" : 38},\n",
        "        \"Song 20\" : {\"Artist\" : \"Erasure\", \"Title\" : \"A Little Respect\", \"UK Chart Position\" : 4},\n",
        "        \"Song 21\" : {\"Artist\" : \"Boygenius\", \"Title\" : \"Not Strong Enough\", \"UK Chart Position\" : \"-\"}\n",
        "       }"
      ]
    },
    {
      "cell_type": "code",
      "execution_count": null,
      "id": "d40da413",
      "metadata": {
        "id": "d40da413",
        "colab": {
          "base_uri": "https://localhost:8080/"
        },
        "outputId": "9c4f24f0-c041-4f36-8343-517923732969"
      },
      "outputs": [
        {
          "output_type": "stream",
          "name": "stdout",
          "text": [
            "Orchestral Manoeuvres in the Dark\n"
          ]
        }
      ],
      "source": [
        "print(hits[\"Song 1\"][\"Artist\"])"
      ]
    },
    {
      "cell_type": "code",
      "source": [
        "print(hits[\"Song 1\"][\"UK Chart Position\"])\n"
      ],
      "metadata": {
        "colab": {
          "base_uri": "https://localhost:8080/"
        },
        "id": "Y1TDFVBpOy-O",
        "outputId": "3e3471ee-584f-49d0-b67e-3c8240b49e05"
      },
      "id": "Y1TDFVBpOy-O",
      "execution_count": null,
      "outputs": [
        {
          "output_type": "stream",
          "name": "stdout",
          "text": [
            "3\n"
          ]
        }
      ]
    },
    {
      "cell_type": "code",
      "execution_count": null,
      "id": "69436f7d",
      "metadata": {
        "id": "69436f7d"
      },
      "outputs": [],
      "source": [
        "for i, obj in hits.items():\n",
        "  print(i)\n",
        "\n",
        "  for y in obj:\n",
        "    print(y + ':', obj[\"UK Chart Position\"])"
      ]
    },
    {
      "cell_type": "code",
      "source": [
        "#for the highest Orchestral Manoeuvres in the Dark rating\n",
        "positions = []\n",
        "for i, obj in hits.items():\n",
        "  if \"UK Chart Position\" in obj:\n",
        "    position = obj[\"UK Chart Position\"]\n",
        "    if position != \"-\" and obj[\"Artist\"] == \"Orchestral Manoeuvres in the Dark\":\n",
        "      positions.append((obj[\"Artist\"], int(position)))\n",
        "\n",
        "positions.sort(key = lambda x: x[1]) #sorting by chart position\n",
        "\n",
        "print(positions)"
      ],
      "metadata": {
        "colab": {
          "base_uri": "https://localhost:8080/"
        },
        "id": "kczEEJPsSBOe",
        "outputId": "c381c705-b00a-4eb5-af87-d4041d8c74f8"
      },
      "id": "kczEEJPsSBOe",
      "execution_count": null,
      "outputs": [
        {
          "output_type": "stream",
          "name": "stdout",
          "text": [
            "[('Orchestral Manoeuvres in the Dark', 3), ('Orchestral Manoeuvres in the Dark', 4), ('Orchestral Manoeuvres in the Dark', 8), ('Orchestral Manoeuvres in the Dark', 17)]\n"
          ]
        }
      ]
    },
    {
      "cell_type": "code",
      "source": [
        "#overall\n",
        "positions = []\n",
        "\n",
        "for i, obj in hits.items():\n",
        "    if \"UK Chart Position\" in obj:\n",
        "        position = obj[\"UK Chart Position\"]\n",
        "        if position != \"-\":\n",
        "            positions.append((obj[\"Artist\"], obj[\"Title\"], int(position)))\n",
        "\n",
        "# Sort by chart position\n",
        "positions.sort(key=lambda x: x[2])\n",
        "\n",
        "print(positions[0])  # Best Charting Song\n"
      ],
      "metadata": {
        "colab": {
          "base_uri": "https://localhost:8080/"
        },
        "id": "2_biRmDQX90o",
        "outputId": "d5dcd883-42d7-45c0-8003-0fba4aa22447"
      },
      "id": "2_biRmDQX90o",
      "execution_count": null,
      "outputs": [
        {
          "output_type": "stream",
          "name": "stdout",
          "text": [
            "('Pulp', 'Common People', 2)\n"
          ]
        }
      ]
    },
    {
      "cell_type": "markdown",
      "id": "a4cfe8c4",
      "metadata": {
        "id": "a4cfe8c4"
      },
      "source": [
        "## 14 - User locations"
      ]
    },
    {
      "cell_type": "markdown",
      "id": "053f8046",
      "metadata": {
        "id": "053f8046"
      },
      "source": [
        "Below is data about users from a website and their country:"
      ]
    },
    {
      "cell_type": "code",
      "execution_count": null,
      "id": "3e03d99d",
      "metadata": {
        "id": "3e03d99d"
      },
      "outputs": [],
      "source": [
        "users = {\"Adam\":\"Germany\", \"Bernard\": \"France\", \"Charlie\":\"United Kingdom\", \"Daniel\" : \"Belgium\", \"Esteban\" : \"Spain\",\n",
        "         \"Freddy\" : \"United States\", \"Gertrud\" : \"Poland\", \"Hamza\" : \"Bangladesh\", \"Ida\" : \"Slovakia\",\n",
        "         \"Jonathan\" : \"Netherlands\", \"Kurt\" : \"Germany\", \"Leo\" : \"Mexico\", \"Mohammed\" : \"Egypt\", \"Neelja\" : \"Sweden\",\n",
        "         \"Otto\" : \"Finland\", \"Paul\" : \"Denmark\", \"Queenie\" : \"United Kingdom\", \"Rudolf\" : \"Norway\", \"Siegfried\" : \"Germany\",\n",
        "         \"Tito\" : \"Romania\", \"Una\" : \"Austria\", \"Valerie\" : \"France\", \"Xaiver\" : \"Australia\", \"Yve\" : \"France\",\n",
        "         \"Zach\" : \"United States\", \"Angela\" : \"Bulgaria\", \"Barbara\" : \"Luxemburg\", \"Chen\" : \"China\", \"Debby\" : \"United States\",\n",
        "         \"Eddy\" : \"Canada\", \"Felix\" : \"Germany\", \"Gina\" : \"Belgium\", \"Hulya\" : \"Turkey\", \"Iggy\" : \"United States\",\n",
        "         \"Jules\" : \"Belgium\", \"Kim\" : \"Korea\", \"Lisa\" : \"Switzerland\", \"Mira\" : \"Portugal\", \"Nathan\" : \"Austria\",\n",
        "         \"Oni\" : \"Japan\", \"Petra\" : \"Germany\", \"Qasim\" : \"Pakistan\", \"Rita\" : \"Hungary\", \"Sarah\" : \"Iran\", \"Tina\" : \"Ireland\",\n",
        "         \"Umar\" : \"Marocco\", \"Xena\" : \"Greece\", \"Yana\" : \"Canada\", \"Zoe\" : \"Iceland\"}"
      ]
    },
    {
      "cell_type": "code",
      "execution_count": null,
      "id": "0f472400",
      "metadata": {
        "id": "0f472400"
      },
      "outputs": [],
      "source": [
        "countries = {\"Germany\" : \"Europe\", \"France\" : \"Europe\", \"United Kingdom\" : \"Europe\", \"Belgium\" : \"Europe\", \"Spain\" : \"Europe\",\n",
        "             \"United States\" : \"North America\", \"Poland\" : \"Europe\", \"Bangladesh\" : \"Asia\", \"Slovakia\" : \"Europe\",\n",
        "             \"Netherlands\" : \"Europe\", \"Mexico\" : \"North America\", \"Egypt\" : \"Africa\", \"Sweden\" : \"Europe\",\n",
        "             \"Finland\" : \"Europe\", \"Denmark\" : \"Europe\", \"Norway\" : \"Europe\", \"Romania\" : \"Europe\", \"Austria\" : \"Europe\",\n",
        "             \"Australia\" : \"Australia\", \"Bulgaria\" : \"Europe\", \"Luxemburg\" : \"Europe\", \"China\" : \"Asia\", \"Korea\" : \"Asia\",\n",
        "             \"Switzerland\" : \"Europe\", \"Canada\" : \"North America\", \"Turkey\" : \"Asia\", \"Portugal\" : \"Europe\", \"Japan\" : \"Asia\",\n",
        "             \"Pakistan\" : \"Asia\", \"Hungary\" : \"Europe\", \"Iran\" : \"Asia\", \"Ireland\" : \"Europe\", \"Marocco\" : \"Africa\",\n",
        "             \"Greece\" : \"Europe\", \"Iceland\" : \"Europe\"}"
      ]
    },
    {
      "cell_type": "markdown",
      "id": "54bef7ed",
      "metadata": {
        "id": "54bef7ed"
      },
      "source": [
        "Use loops to create a dictionary that counts the number of users per continent and print out the result (nicely). Can you write the loop in one line?"
      ]
    },
    {
      "cell_type": "code",
      "source": [
        "\"Björn\" in users\n",
        "#would be funny if it returned True"
      ],
      "metadata": {
        "colab": {
          "base_uri": "https://localhost:8080/"
        },
        "id": "LqI-N9kPZALY",
        "outputId": "88bd1a50-c8f5-49d7-e309-6773888a391b"
      },
      "id": "LqI-N9kPZALY",
      "execution_count": null,
      "outputs": [
        {
          "output_type": "execute_result",
          "data": {
            "text/plain": [
              "False"
            ]
          },
          "metadata": {},
          "execution_count": 100
        }
      ]
    },
    {
      "cell_type": "code",
      "execution_count": null,
      "id": "aea5be5a",
      "metadata": {
        "id": "aea5be5a",
        "colab": {
          "base_uri": "https://localhost:8080/"
        },
        "outputId": "497cbbb2-cd32-482e-c784-8da39a957b6e"
      },
      "outputs": [
        {
          "output_type": "stream",
          "name": "stdout",
          "text": [
            "Europe: 32 users\n",
            "North America: 7 users\n",
            "Asia: 7 users\n",
            "Africa: 2 users\n",
            "Australia: 1 users\n"
          ]
        }
      ],
      "source": [
        "counter = {}\n",
        "for i, y in users.items():\n",
        "  if y in countries:\n",
        "    continent = countries[y]\n",
        "    counter[continent] = counter.get(continent, 0) + 1\n",
        "\n",
        "for continent, count in counter.items():\n",
        "  print(f\"{continent}: {count} users\")\n",
        "\n",
        "\n"
      ]
    },
    {
      "cell_type": "markdown",
      "id": "b4fcfd40",
      "metadata": {
        "id": "b4fcfd40"
      },
      "source": [
        "## 15 - Pattern creation III\n",
        "\n",
        "Create the following pattern usings loops:\n",
        "```\n",
        "- - + - -\n",
        "- + + + -\n",
        "+ + + + +\n",
        "- + + + -\n",
        "- - + - -\n",
        "```\n",
        "Make it flexible so that you can easily create similar patterns of different (odd) sizes."
      ]
    },
    {
      "cell_type": "code",
      "execution_count": null,
      "id": "15d82fdf",
      "metadata": {
        "id": "15d82fdf",
        "colab": {
          "base_uri": "https://localhost:8080/"
        },
        "outputId": "0bd7adfd-8f41-479f-f6ee-1071ac2f06dd"
      },
      "outputs": [
        {
          "output_type": "stream",
          "name": "stdout",
          "text": [
            "-----\n",
            "-----\n",
            "-----\n",
            "-----\n",
            "-----\n",
            "-----\n"
          ]
        }
      ],
      "source": [
        "minus = \"-\"\n",
        "shape = ()\n",
        "for i in range(0, 6):\n",
        "  box = 5 * minus\n",
        "  print(box)"
      ]
    },
    {
      "cell_type": "code",
      "source": [
        "i = 1\n",
        "desired = int(input()) #no even\n",
        "shape = []\n",
        "while i < desired:\n",
        "  i = i + 2\n",
        "  thing = \"+\" * i\n",
        "  shape.append(thing)\n",
        "if i == desired:\n",
        "  i = i - 2\n",
        "  new_thing = \"+\" * i\n",
        "  shape.append(new_thing)\n",
        "print(shape)"
      ],
      "metadata": {
        "colab": {
          "base_uri": "https://localhost:8080/"
        },
        "id": "IBprv1JvehWI",
        "outputId": "e0e0cc28-a84a-4047-a331-fa87b6c7bd37"
      },
      "id": "IBprv1JvehWI",
      "execution_count": null,
      "outputs": [
        {
          "output_type": "stream",
          "name": "stdout",
          "text": [
            "5\n",
            "['+++', '+++++', '+++']\n"
          ]
        }
      ]
    },
    {
      "cell_type": "code",
      "source": [
        "def generate_shape(size):\n",
        "  shape = []\n",
        "  half = (size // 2) + 1  #rows for the top half including the middle\n",
        "\n",
        "  for i in range(1, half + 1):\n",
        "    pluses = (2 * i) - 1  #1, 3, 5, 7... odd sequence\n",
        "    minus = (size - pluses) // 2 #split it in two so when *plus, it's even on both side\n",
        "    row = (\"-\" * minus) + (\"+\" * pluses) + (\"-\" * minus)\n",
        "    shape.append(row)\n",
        "\n",
        "  #mirror the top half for the bottom half excluding middle\n",
        "  mirror = shape[:-1][::-1]\n",
        "  shape += mirror\n",
        "\n",
        "  for line in shape:\n",
        "    print(line)\n",
        "\n",
        "#test, odd numbers only\n",
        "generate_shape(5)\n",
        "print()\n",
        "generate_shape(7)\n",
        "print()\n",
        "generate_shape(11)\n"
      ],
      "metadata": {
        "colab": {
          "base_uri": "https://localhost:8080/"
        },
        "id": "i0FJtKw5hk4c",
        "outputId": "169e63cc-57e4-4a4e-8b16-9a57580f7db8"
      },
      "id": "i0FJtKw5hk4c",
      "execution_count": null,
      "outputs": [
        {
          "output_type": "stream",
          "name": "stdout",
          "text": [
            "--+--\n",
            "-+++-\n",
            "+++++\n",
            "-+++-\n",
            "--+--\n",
            "\n",
            "---+---\n",
            "--+++--\n",
            "-+++++-\n",
            "+++++++\n",
            "-+++++-\n",
            "--+++--\n",
            "---+---\n",
            "\n",
            "-----+-----\n",
            "----+++----\n",
            "---+++++---\n",
            "--+++++++--\n",
            "-+++++++++-\n",
            "+++++++++++\n",
            "-+++++++++-\n",
            "--+++++++--\n",
            "---+++++---\n",
            "----+++----\n",
            "-----+-----\n"
          ]
        }
      ]
    },
    {
      "cell_type": "code",
      "source": [],
      "metadata": {
        "id": "dCRs8Mg7nfUv"
      },
      "id": "dCRs8Mg7nfUv",
      "execution_count": null,
      "outputs": []
    }
  ],
  "metadata": {
    "kernelspec": {
      "display_name": "Python 3 (ipykernel)",
      "language": "python",
      "name": "python3"
    },
    "language_info": {
      "codemirror_mode": {
        "name": "ipython",
        "version": 3
      },
      "file_extension": ".py",
      "mimetype": "text/x-python",
      "name": "python",
      "nbconvert_exporter": "python",
      "pygments_lexer": "ipython3",
      "version": "3.11.5"
    },
    "varInspector": {
      "cols": {
        "lenName": 16,
        "lenType": 16,
        "lenVar": 40
      },
      "kernels_config": {
        "python": {
          "delete_cmd_postfix": "",
          "delete_cmd_prefix": "del ",
          "library": "var_list.py",
          "varRefreshCmd": "print(var_dic_list())"
        },
        "r": {
          "delete_cmd_postfix": ") ",
          "delete_cmd_prefix": "rm(",
          "library": "var_list.r",
          "varRefreshCmd": "cat(var_dic_list()) "
        }
      },
      "types_to_exclude": [
        "module",
        "function",
        "builtin_function_or_method",
        "instance",
        "_Feature"
      ],
      "window_display": false
    },
    "colab": {
      "provenance": []
    }
  },
  "nbformat": 4,
  "nbformat_minor": 5
}